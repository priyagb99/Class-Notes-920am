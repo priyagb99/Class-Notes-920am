{
 "cells": [
  {
   "cell_type": "markdown",
   "id": "934846a2-cf16-4335-bd06-c7e4c498eee8",
   "metadata": {},
   "source": [
    "# Module 1 - GitHub, JLab, Python, Good Habits\n",
    "\n",
    "_My suggested use for this file is as an extra tab you keep open on the right side of your JupyterLab screen, and treat it like a notepad you'd use in a classroom. The left half of the screen will be good for files that have involved coding that should be stand alone files._\n",
    "\n",
    "## Skills to learn in this Module \n",
    "\n",
    "You can find the tasks for this module [on the dashboard page]. \n",
    "\n",
    "Note: You can use this as a checklist if you want. Just put an \"x\" in the brackets, like `[x]`:\n",
    "- [x] See? All done!\n",
    "\n",
    "Below are the skills I want you to learn in this module in _roughly_ the order we will cover them\n",
    "- [ ] GitHub skills \n",
    "    - [ ] create a own repo on GitHub (start a project) \n",
    "    - [ ] clone a repo off GitHub to our computers (get ready to work on it) \n",
    "    - [ ] **work on that repo on our computer and sync it to GitHub, using the** [**GitHub Workflow - fetch, commit, push**](03a_githubworkflow)  \n",
    "    - [ ] use the classmates team page\n",
    "    - [ ] open an issue in a repo to get help  \n",
    "    - [ ] know what a good `README` file does and can look like - [I _personally_ like this one](https://GitHub.com/donbowen/BFH) but take a quick look at [this  list of awesome readmes](https://GitHub.com/matiassingers/awesome-readme) for inspiration \n",
    "    - [ ] [know what the `.gitignore` file in our repos is and how/why to use it ](09_gitignore) \n",
    "- [ ] Jupyter lab skills \n",
    "    - [ ] write nicely formatted text in Markdown\n",
    "    - [ ] switch cells from code to markdown and back\n",
    "    - [ ] write and execute code \n",
    "    - [ ] Using shift tab and help resources (1.6.2)\n",
    "    - [ ] get used to using keyboard shortcuts (Chapter 1.6.3)    \n",
    "- [ ] Python skills \n",
    "    - [ ] Work through 1.7 before trying Assignment 1, including the exercises\n",
    "    - [ ] Know the main object types: ints, booleans, floats, lists, strings, and dictionaries\n",
    "    - [ ] Accessing elements within a list and string  \n",
    "    - [ ] Calling functions on objects via the dot syntax  \n",
    "    - [ ] Using documentation to understand how to use a function (pick one function, look up documentation)\n",
    "    - [ ] Possibly: Print out a good python cheatsheet to keep on your desk (backup: revisit Chapter 1.7!)\n"
   ]
  },
  {
   "cell_type": "markdown",
   "id": "92c622e7-94fc-42fb-8d60-3eb070be5b07",
   "metadata": {},
   "source": [
    "## GitHub Lessons"
   ]
  },
  {
   "cell_type": "markdown",
   "id": "88569d7e-97e5-4bcf-bdaa-40984180d051",
   "metadata": {},
   "source": [
    "the block below is just me getting you started..."
   ]
  },
  {
   "cell_type": "markdown",
   "id": "3392bd3e-2a77-4456-b549-8517b21a8686",
   "metadata": {},
   "source": [
    "- Before and after each class, fetch the ledatascifi-2022 repo to get the latest slides and exercises. \n",
    "    - Note: Don't modify any files in this repo! Copy exercises files OUT of the folder to work on them.\n",
    "- When you start work on assignments (every day)\n",
    "    1. **Fetch** the repo in GH-D\n",
    "    1. Every once in a while: Save files you're working on in whatever program you're using, then go to GH-D and tell GH-D to save the changes by **\"commit\"** ing them there. \n",
    "    1. **Push** the commit so that your work is backed up. (I do this right after every commit because it's easy.)\n",
    "- When you take notes - do the same!\n",
    "    1. **Fetch** the repo in GH-D\n",
    "    1. Every once in a while: Save files you're working on in whatever program you're using, then go to GH-D and tell GH-D to save the changes by **\"commit\"** ing them there. \n",
    "    1. **Push** the commit so that your work is backed up. (I do this right after every commit because it's easy.)    "
   ]
  },
  {
   "cell_type": "code",
   "execution_count": null,
   "id": "d3e1097f-12f7-4860-8b07-d0050800e0f3",
   "metadata": {},
   "outputs": [],
   "source": [
    "you can add more github notes here"
   ]
  },
  {
   "cell_type": "markdown",
   "id": "57aade34-b0f7-40ec-b761-7d11dc493f9f",
   "metadata": {
    "tags": []
   },
   "source": [
    "## Jupyter Lab Notes\n",
    "\n",
    "Learning the shortcuts is fire\n",
    "\n",
    "The documentation and help on the website is fire"
   ]
  },
  {
   "cell_type": "code",
   "execution_count": null,
   "id": "469cbc81-dc29-4dc4-9ca2-abbded8e5968",
   "metadata": {},
   "outputs": [],
   "source": []
  },
  {
   "cell_type": "code",
   "execution_count": null,
   "id": "bece55fe-95c8-4ace-a7c9-29a462d4163d",
   "metadata": {},
   "outputs": [],
   "source": []
  },
  {
   "cell_type": "code",
   "execution_count": 1,
   "id": "d788e3c2-5f9a-41b3-96cb-881e032cbe92",
   "metadata": {},
   "outputs": [
    {
     "name": "stdout",
     "output_type": "stream",
     "text": [
      "Hello world!\n"
     ]
    }
   ],
   "source": [
    "print(\"Hello world!\")"
   ]
  },
  {
   "cell_type": "markdown",
   "id": "e074dbc8-3d08-459d-ad39-5b479e38f6d3",
   "metadata": {},
   "source": [
    "## Python Notes\n",
    "\n",
    "1. CLEAR THE OUTPUTS AND RERUN THE CODE IN ORDER!!!!"
   ]
  },
  {
   "cell_type": "code",
   "execution_count": null,
   "id": "4155a170-55d7-4c84-aedf-09ab96953474",
   "metadata": {},
   "outputs": [],
   "source": [
    "put your notes here"
   ]
  },
  {
   "cell_type": "markdown",
   "id": "c8bbb8a6-2a5f-4080-8af2-37fd3470d078",
   "metadata": {},
   "source": [
    "## Good Habit Notes"
   ]
  },
  {
   "cell_type": "markdown",
   "id": "5fe07c69-e027-4bdb-bf7f-3cb160c2c075",
   "metadata": {},
   "source": [
    "## THE GOLDEN RULES \n",
    "\n",
    "Following these GOLDEN RULES will save you hours and hours of time.\n",
    "\n",
    "```{tip}\n",
    "The rules below are really golden. How about you copy this page into your class notes repo someplace you can reference them?\n",
    "```\n",
    "\n",
    "| **Category** | **Rule**  |\n",
    "| :--- | :--- |\n",
    "| 0. **PLAN BEFORE YOU CODE** | A. \"Pseudo code\" is writing out the broad steps in plain language. I often (almost always for complicated tasks) do this on paper, then translate it to code as an outline (in the code's comments). <br> <br> Maybe planning sounds boring and like a waste of time. I get it; I also want to [shoot first](https://youtu.be/la7uuFsCIrg?t=43) like [Han did...](https://youtu.be/YtoqDF8EnsA)  but coders like Han often [end up looking like this guy](https://youtu.be/mLyOj_QD4a4?t=67)... |\n",
    "| | B. Break the problem into chunks/smaller problems. Large chunks should be in different script files. Within an individual file that is doing one thing, try to break it down. See rule 3.A and 5.B below too. |\n",
    "| 1. Automation | A. Automate everything that can be automated, don't do point-and-click analysis! |\n",
    "| | B. If the project involves running multiple code files in order, write a single script that executes all code for the project from beginning to end, [like this one.](10_Golden_6.html#part-3-making-replication-easy) |\n",
    "| 2. Version control | A. Store code and data under version control.  |\n",
    "| | B. [Use the Github workflow!](../01/03a_githubworkflow) | \n",
    "| | C. **Before checking the directory back in, clear all outputs, delete temp files, and then run the whole directory to make sure the outputs reproduce!** (Check: Did it work right?) <br> <br> [If the project uses notebook files, always look to see if the first executed code block has \"[1]\" next to it and that all the subsequent code blocks are numbered consecutively.](../01/06_python.html?highlight=golden#clear-output-and-rerun-from-the-start)   |\n",
    "| 3.  [Organizing folders](10_Golden_6) | A. Separate  folders/directories and files by function |\n",
    "| | B. Put input files into an input folder and outputs into a different folder  |\n",
    "| | A + B = your folders and files will be largely self documenting |\n",
    "| | C. Make directories portable - they should run on any computer, or if you move them to another place on your computer. See the next rule. |\n",
    "| | D [**Use RELATIVE FILE PATHS, not absolute file paths**](10_Golden_7)  ⭐ ⭐ |\n",
    "| 4. [Data](10_Golden_4) | A. Store cleaned data in tables with unique, non-missing \"keys\" |\n",
    "| | B. Keep data normalized as far into your code pipeline as you can |\n",
    "| 5. [Functions](10_Golden_5a) | A. Write functions to eliminate redundancy |\n",
    "| | B. Write functions to improve clarity |\n",
    "| | C. Otherwise, don't write functions |\n",
    "| | D. **Test your functions!** Use small examples where you know the right answers, and try variations to see if the function breaks in some cases.   |\n",
    "| 6. [Documentation and comments](10_Golden_5b) | A. Is good... to a point |\n",
    "| | B. Don't write documentation you will not maintain |\n",
    "| | C. Code is better off when it is self-documenting |\n",
    "| 7. [Writing code](10_Golden_8) | A. Don't use magic numbers, define once as variables and refer as needed |\n",
    "| | B. Write DRY code: Don't Repeat Yourself! See rule 5.A. |\n",
    "| | C. Premature optimization (for speed) is the root of all evil. | \n",
    "| | D. Use self-documenting variable and function names. | \n",
    "| 8. Look at your data/objects | As discussed [here](../01/07_debugging.html#seriously-print-your-data-and-objects-often) and many other places. <br> <br> **ABCD = Always Be Checking your Data!** | \n"
   ]
  }
 ],
 "metadata": {
  "kernelspec": {
   "display_name": "Python 3 (ipykernel)",
   "language": "python",
   "name": "python3"
  },
  "language_info": {
   "codemirror_mode": {
    "name": "ipython",
    "version": 3
   },
   "file_extension": ".py",
   "mimetype": "text/x-python",
   "name": "python",
   "nbconvert_exporter": "python",
   "pygments_lexer": "ipython3",
   "version": "3.8.12"
  }
 },
 "nbformat": 4,
 "nbformat_minor": 5
}
