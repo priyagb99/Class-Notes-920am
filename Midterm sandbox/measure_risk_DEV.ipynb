{
 "cells": [
  {
   "cell_type": "markdown",
   "id": "9430c5b9-a8f1-4193-b8c4-b1dffc5a3e93",
   "metadata": {},
   "source": [
    "## Demo \n",
    "\n",
    "We want to solve some steps for measure_risk. I outlined this demo here https://github.com/orgs/LeDataSciFi/teams/classmates-2022/discussions/19/comments/4"
   ]
  },
  {
   "cell_type": "code",
   "execution_count": 1,
   "id": "15888628-892a-406b-a4fd-bbc41de0cf20",
   "metadata": {},
   "outputs": [],
   "source": [
    "import pandas as pd\n",
    "import random\n",
    "\n",
    "# step 1 will load some database and prep it for the loopy parts\n",
    "# here, we will just use a toy dataset\n",
    "\n",
    "toy_database = pd.DataFrame({\"Security\":['3M','TLSA','APPL'],\n",
    "             \"URL\":['blahblah.com','wikisomething.com','wiki.com']})"
   ]
  },
  {
   "cell_type": "code",
   "execution_count": 2,
   "id": "5c99dae1-2d63-41dc-a500-46f1091e99b6",
   "metadata": {},
   "outputs": [
    {
     "data": {
      "text/html": [
       "<div>\n",
       "<style scoped>\n",
       "    .dataframe tbody tr th:only-of-type {\n",
       "        vertical-align: middle;\n",
       "    }\n",
       "\n",
       "    .dataframe tbody tr th {\n",
       "        vertical-align: top;\n",
       "    }\n",
       "\n",
       "    .dataframe thead th {\n",
       "        text-align: right;\n",
       "    }\n",
       "</style>\n",
       "<table border=\"1\" class=\"dataframe\">\n",
       "  <thead>\n",
       "    <tr style=\"text-align: right;\">\n",
       "      <th></th>\n",
       "      <th>Security</th>\n",
       "      <th>URL</th>\n",
       "    </tr>\n",
       "  </thead>\n",
       "  <tbody>\n",
       "    <tr>\n",
       "      <th>0</th>\n",
       "      <td>3M</td>\n",
       "      <td>blahblah.com</td>\n",
       "    </tr>\n",
       "    <tr>\n",
       "      <th>1</th>\n",
       "      <td>TLSA</td>\n",
       "      <td>wikisomething.com</td>\n",
       "    </tr>\n",
       "    <tr>\n",
       "      <th>2</th>\n",
       "      <td>APPL</td>\n",
       "      <td>wiki.com</td>\n",
       "    </tr>\n",
       "  </tbody>\n",
       "</table>\n",
       "</div>"
      ],
      "text/plain": [
       "  Security                URL\n",
       "0       3M       blahblah.com\n",
       "1     TLSA  wikisomething.com\n",
       "2     APPL           wiki.com"
      ]
     },
     "execution_count": 2,
     "metadata": {},
     "output_type": "execute_result"
    }
   ],
   "source": [
    "toy_database"
   ]
  },
  {
   "cell_type": "markdown",
   "id": "85f073b5-1182-4c29-81f3-cdcb4ce3814f",
   "metadata": {},
   "source": [
    "The problem:"
   ]
  },
  {
   "cell_type": "code",
   "execution_count": null,
   "id": "e24696f7-9aec-483f-a24d-e5698c898ce5",
   "metadata": {},
   "outputs": [],
   "source": [
    "# step 2: figure out how to loop through this dataframe \n",
    "for ______________________________: \n",
    "    # A. here, you would open the related 10k, but SKIP this for now\n",
    "\n",
    "    # B. You'd measure the risk exposures here. Let's just pretend that \n",
    "    # you opened+cleaned+searched it and built a risk exposure variable \n",
    "    # called \"new_risk_var\" (a bad name, but this is just example code!)\n",
    "\n",
    "    new_risk_var = random.randint(0,10) # this is a silly line to \"simulate\" that you created some risk measure\n",
    "\n",
    "    __________________________ # add new_risk_var to your toy database"
   ]
  },
  {
   "cell_type": "markdown",
   "id": "fa8fd202-949c-4593-98df-6a6354d054e3",
   "metadata": {
    "tags": []
   },
   "source": [
    "## Solution:\n",
    "1. .iterrows() is nice for looping over df\n",
    "2. .at[] is nice for adding one value to df\n",
    "\n",
    "#### Note that the contents of this loop are the meat of this file!"
   ]
  },
  {
   "cell_type": "code",
   "execution_count": 3,
   "id": "9087f5a8-5511-4d79-962a-1e995cdd569f",
   "metadata": {},
   "outputs": [
    {
     "name": "stdout",
     "output_type": "stream",
     "text": [
      "3M\n",
      "4\n",
      "------\n",
      "TLSA\n",
      "6\n",
      "------\n",
      "APPL\n",
      "8\n",
      "------\n"
     ]
    }
   ],
   "source": [
    "# (first run on the first 10 firms of the dataset)\n",
    "# use tqdm to monitor progress!\n",
    "# when you try this on all rows\n",
    "for index, row in toy_database.iterrows():\n",
    "    \n",
    "    # open 10K here - like discussed below\n",
    "    # main challenge: getting the full path to the HTML\n",
    "    # see the hint on the discussion board!\n",
    "    \n",
    "    print(row['Security']) # can pull vars out of that row for use\n",
    "\n",
    "    # clean the 10-K so you just have text in a variable!\n",
    "    #TBD\n",
    "    \n",
    "    # measure risks: this is fake code\n",
    "    #use nearregex\n",
    "    \n",
    "    new_risk_var = random.randint(0,10) # this is a silly line to \"simulate\" that you created some risk measure\n",
    "    print(new_risk_var)\n",
    "    \n",
    "    # put into database    \n",
    "    toy_database.at[index, 'Risk_exposure']=new_risk_var # add new_risk_var to your toy database\n",
    "    print('------')"
   ]
  },
  {
   "cell_type": "markdown",
   "id": "d07490c0-76f6-4304-9d2c-5a3ee1a8a412",
   "metadata": {},
   "source": [
    "And now we've added the variable:"
   ]
  },
  {
   "cell_type": "code",
   "execution_count": 4,
   "id": "24f256f6-c0f5-4448-b44c-72f4850e1edd",
   "metadata": {},
   "outputs": [
    {
     "data": {
      "text/html": [
       "<div>\n",
       "<style scoped>\n",
       "    .dataframe tbody tr th:only-of-type {\n",
       "        vertical-align: middle;\n",
       "    }\n",
       "\n",
       "    .dataframe tbody tr th {\n",
       "        vertical-align: top;\n",
       "    }\n",
       "\n",
       "    .dataframe thead th {\n",
       "        text-align: right;\n",
       "    }\n",
       "</style>\n",
       "<table border=\"1\" class=\"dataframe\">\n",
       "  <thead>\n",
       "    <tr style=\"text-align: right;\">\n",
       "      <th></th>\n",
       "      <th>Security</th>\n",
       "      <th>URL</th>\n",
       "      <th>Risk_exposure</th>\n",
       "    </tr>\n",
       "  </thead>\n",
       "  <tbody>\n",
       "    <tr>\n",
       "      <th>0</th>\n",
       "      <td>3M</td>\n",
       "      <td>blahblah.com</td>\n",
       "      <td>4.0</td>\n",
       "    </tr>\n",
       "    <tr>\n",
       "      <th>1</th>\n",
       "      <td>TLSA</td>\n",
       "      <td>wikisomething.com</td>\n",
       "      <td>6.0</td>\n",
       "    </tr>\n",
       "    <tr>\n",
       "      <th>2</th>\n",
       "      <td>APPL</td>\n",
       "      <td>wiki.com</td>\n",
       "      <td>8.0</td>\n",
       "    </tr>\n",
       "  </tbody>\n",
       "</table>\n",
       "</div>"
      ],
      "text/plain": [
       "  Security                URL  Risk_exposure\n",
       "0       3M       blahblah.com            4.0\n",
       "1     TLSA  wikisomething.com            6.0\n",
       "2     APPL           wiki.com            8.0"
      ]
     },
     "execution_count": 4,
     "metadata": {},
     "output_type": "execute_result"
    }
   ],
   "source": [
    "toy_database"
   ]
  },
  {
   "cell_type": "markdown",
   "id": "fb6ca3ef-12e2-4044-aaed-128ffda6c4e1",
   "metadata": {},
   "source": [
    "## Opening A 10-k"
   ]
  },
  {
   "cell_type": "code",
   "execution_count": 5,
   "id": "e1402a44-bc98-44c0-a22d-2ab02501a940",
   "metadata": {},
   "outputs": [],
   "source": [
    "fname = \"10k_files/sec-edgar-filings/TSLA/10-K/0001564590-20-004475/filing-details.html\"\n",
    "\n",
    "# when you open a file in python, the file is added to the RAM working memory\n",
    "# so you want to close the file when you are done with it (otherwise you will have\n",
    "# all 500 files open at the same time!)\n",
    "\n",
    "# \"with\" automatically closes the file once the block of code insideit ends\n",
    "# which reduces RAM/memory requirements, \n",
    "with open(fname, encoding=\"utf-8\") as report_file:\n",
    "    html = report_file.read()\n",
    "    # now it automatically closes the 10-K html"
   ]
  },
  {
   "cell_type": "markdown",
   "id": "8c1e0eef-d3b1-421c-8e7c-1955c5614f55",
   "metadata": {},
   "source": [
    "Clearly, we will need to find the text from inside the 10-K because the raw html is nasty:"
   ]
  },
  {
   "cell_type": "code",
   "execution_count": 6,
   "id": "1a2722f7-381d-4f01-831f-61c6c7e8583a",
   "metadata": {},
   "outputs": [
    {
     "data": {
      "text/plain": [
       "'<?xml version=\"1.0\" encoding=\"utf-8\"?><!-- DFIN ActiveDisclosure(SM) Inline XBRL Document - http://www.dfinsolutions.com/ --><!-- Creation Date      : 2020-02-13T10:20:23.3895073+00:00 --><!-- Version            : 5.0.1.321 --><!-- Package ID         : 323b37309d3e4cdb824ea7eabcb9d5e2 --><!-- Copyright (c) 2020 Donnelley Financial Solutions, Inc. All Rights Reserved. --><html xmlns=\"http://www.w3.org/1999/xhtml\" xmlns:country=\"http://xbrl.sec.gov/country/2017-01-31\" xmlns:currency=\"http://xbrl.sec.gov/currency/2019-01-31\" xmlns:dei=\"http://xbrl.sec.gov/dei/2019-01-31\" xmlns:exch=\"http://xbrl.sec.gov/exch/2019-01-31\" xmlns:invest=\"http://xbrl.sec.gov/invest/2013-01-31\" xmlns:iso4217=\"http://www.xbrl.org/2003/iso4217\" xmlns:ix=\"http://www.xbrl.org/2013/inlineXBRL\" xmlns:ixt=\"http://www.xbrl.org/inlineXBRL/transformation/2015-02-26\" xmlns:ixt-sec=\"http://www.sec.gov/inlineXBRL/transformation/2015-08-31\" xmlns:link=\"http://www.xbrl.org/2003/linkbase\" xmlns:naics=\"http://xbrl.sec.gov/naics/'"
      ]
     },
     "execution_count": 6,
     "metadata": {},
     "output_type": "execute_result"
    }
   ],
   "source": [
    "html[:1000]"
   ]
  },
  {
   "cell_type": "markdown",
   "id": "ce78391f-7516-4e4c-9c61-bf26b826c345",
   "metadata": {},
   "source": [
    "In the midterm, the `fname` is always like the above, but \"TSLA\" is always replaced with the firm's ticker, and the numbers are different for every filing.\n",
    "\n",
    "#### I left a hint on the discussion board about figuring out how to look for a file when you don't know the full path name!"
   ]
  },
  {
   "cell_type": "markdown",
   "id": "8fff6d66-f38f-49f2-b310-f6b8bd244493",
   "metadata": {},
   "source": [
    "## NLP with our eyes\n",
    "\n",
    "What are some risks factors for Telsa we can look for? Brainstorm, then find instances in the 10-K that support it.\n",
    "- oil prices \n",
    "- china labor/workforce \n",
    "- competition from other EV brands\n",
    "    - Joe and Ryan\n",
    "    - In addition, Model 3 and Model Y face competition from existing and future automobile manufacturers in the extremely competitive entry-level premium sedan and compact SUV market, including BMW, Ford, Lexus, Mercedes and Volkswagen Group.\n",
    "    - 56 \"compet\"\n",
    "- lithium \n",
    "    - Yang and Matt\n",
    "    - \"Increases in costs, disruption of supply or shortage of materials, in particular for lithium-ion cells, could harm our business.\"\n",
    "    - 21 lithium\n",
    "- government policy, environmental (including tax credit phase out)\n",
    "- business cycle\n",
    "- non-oil energy prices \n",
    "- regulatory (automation of driving rules)\n",
    "    - \"In particular, we offer in our vehicles Autopilot and FSD features that today assist drivers with certain tedious and potentially dangerous aspects of road travel, but which currently require drivers to remain engaged. We are continuing to develop our FSD technology with the goal of achieving full self-driving capability in the future. There is a variety of international, federal and state regulations that may apply to self-driving vehicles, which include many existing vehicle standards that were not originally intended to apply to vehicles that may not have a driver. Such regulations continue to rapidly change, which increases the likelihood of a patchwork of complex or conflicting regulations, or may delay products or restrict self-driving features and availability, any of which could adversely affect our business.\"\n",
    "- supply chain issues (chip)\n",
    "    - Row 2\n",
    "- government prohibition (strict regulation, like tobacco)\n",
    "- unionization\n",
    "    - Jack\n",
    "    - union appears 12, 4 of these are EU!\n",
    "    - 8 about labor\n",
    "    - \"Our business may be adversely affected by any disruptions caused by union activities.\"\n",
    "- real estate impact on store costs \n",
    "- supply chain risk (broadly?)\n",
    "- production risks (a specific supply chain risk)\n",
    "    - alex \n",
    "    - We have experienced in the past, and may experience in the future, delays or other complications in the design, manufacture, launch, and production ramp of our vehicles, energy products, and product features, or may not realize our manufacturing cost targets, which could harm our brand, business, prospects, financial condition and operating results.\n",
    "    - We may be unable to meet our growing product sales, delivery and installation plans and vehicle servicing and charging network needs, or accurately project and manage this growth internationally, any of which could harm our business and prospects.\n",
    "    - We are dependent on our suppliers, the majority of which are single-source suppliers, and the inability of these suppliers to deliver necessary components of our products according to our schedule and at prices, quality levels and volumes acceptable to us, or our inability to efficiently manage these components, could have a material adverse effect on our financial condition and operating results.\n",
    "- computer chips (a specific supply chain risk)\n",
    "- changes to tax policy\n",
    "    - theo\n",
    "    - \"Globally, both the operation of our business by us and the ownership of our products by our customers are impacted by a number of government programs, incentives and other arrangements. Our business and products are also subject to a number of governmental regulations that vary among jurisdictions.\"\n",
    "- prices of alternatives (ICE, gas/oil)\n",
    "    - austen\n",
    "    - competition, including from other types of alternative fuel vehicles, plug-in hybrid electric vehicles and high fuel-economy internal combustion engine vehicles; \n",
    "- business cycle risk (income of customers, preference changes)\n",
    "    - ian  \n",
    "    - Our future growth and success is dependent upon consumers’ willingness to adopt electric vehicles and specifically our vehicles. We operate in the automotive industry, which is generally susceptible to cyclicality and volatility. \n",
    "- environmental regulation (emission standards up or chemical standard)\n",
    "    - matt and seb\n",
    "    - The unavailability, reduction or elimination of, or unfavorable determinations with respect to, government and economic incentives in the U.S. and abroad supporting the development and adoption of electric vehicles, energy storage products or solar energy could have some impact on demand for our products and services. \n",
    "- increased competition (EV) \n",
    "    - owen colin\n",
    "    - \"The markets in which we operate are highly competitive, and we may not be successful in competing in these industries. We currently face competition from new and established domestic and international competitors and expect to face competition from others in the future, including competition from companies with new technology.\"\n",
    "- idiosyncratic management\n",
    "    - harrison\n",
    "    - We are highly dependent on the services of Elon Musk, our Chief Executive Officer and largest stockholder. Although Mr. Musk spends significant time with Tesla and is highly active in our management, he does not devote his full time and attention to Tesla. Mr. Musk also currently serves as Chief Executive Officer and Chief Technical Officer of Space Exploration Technologies Corp., a developer and manufacturer of space launch vehicles, and is involved in other emerging technology ventures.\n",
    "- regulation of automated driving\n",
    "    - eric\n",
    "    - \"There are no federal U.S. regulations pertaining to the safety of self-driving vehicles; however, NHTSA has established recommended guidelines. Certain U.S. states have legal restrictions on self-driving vehicles, and many other states are considering them. This patchwork increases the legal complexity for our vehicles. In Europe, certain vehicle safety regulations apply to self-driving braking and steering systems, and certain treaties also restrict the legality of certain higher levels of self-driving vehicles. Self-driving laws and regulations are expected to continue to evolve in numerous jurisdictions in the U.S. and foreign countries, and may create restrictions on self-driving features that we develop.\"\n",
    "- regulation of DTC"
   ]
  },
  {
   "cell_type": "markdown",
   "id": "f7edb6db-7152-4b75-a482-c56290aefd05",
   "metadata": {},
   "source": [
    "## Near regex basics\n",
    "\n",
    "Load the function, and `re`."
   ]
  },
  {
   "cell_type": "code",
   "execution_count": 7,
   "id": "3c391dfc-2042-41ef-a2c5-a2521699372e",
   "metadata": {},
   "outputs": [],
   "source": [
    "from near_regex import NEAR_regex \n",
    "import re"
   ]
  },
  {
   "cell_type": "markdown",
   "id": "d06aa1d7-e3ab-46b1-95ae-7eb3625d47d8",
   "metadata": {},
   "source": [
    "You need a document (string)"
   ]
  },
  {
   "cell_type": "code",
   "execution_count": 8,
   "id": "b629e716-5ad6-490c-b491-b83dea99a7d8",
   "metadata": {},
   "outputs": [],
   "source": [
    "test  = 'partial o o with o o o  partial o o  with o o o partial o o with'"
   ]
  },
  {
   "cell_type": "markdown",
   "id": "70b2024a-3235-4794-b15a-41dd2a80bdaa",
   "metadata": {},
   "source": [
    "Set up your search terms"
   ]
  },
  {
   "cell_type": "code",
   "execution_count": 9,
   "id": "f122446a-dd3a-48c2-893f-fefca6bc8534",
   "metadata": {},
   "outputs": [],
   "source": [
    "words = ['partial','with']"
   ]
  },
  {
   "cell_type": "markdown",
   "id": "62d67cca-abcf-4ad8-847c-83544b189729",
   "metadata": {},
   "source": [
    "The function simply writes the regex for you:"
   ]
  },
  {
   "cell_type": "code",
   "execution_count": 10,
   "id": "00db24a0-ecc4-4984-9d1a-7bb6661bb609",
   "metadata": {},
   "outputs": [
    {
     "data": {
      "text/plain": [
       "'(?:\\\\bpartial\\\\b(?: +[^ \\\\n]*){0,2} *\\\\bwith\\\\b)|(?:\\\\bwith\\\\b(?: +[^ \\\\n]*){0,2} *\\\\bpartial\\\\b)'"
      ]
     },
     "execution_count": 10,
     "metadata": {},
     "output_type": "execute_result"
    }
   ],
   "source": [
    "rgx   = NEAR_regex(words,2)\n",
    "rgx"
   ]
  },
  {
   "cell_type": "markdown",
   "id": "288df7e7-040f-4dc6-a61c-8a6584c987fe",
   "metadata": {},
   "source": [
    "That `rgx` is ugly, but you can use it to count the number of hits easily. Look at the next code. `findall` looks for a pattern (argument 1) inside a string or document (argument 2). You can count the number of hits with `len`."
   ]
  },
  {
   "cell_type": "code",
   "execution_count": 11,
   "id": "37d1f9f2-19e2-463f-95b8-d469bf155bcb",
   "metadata": {},
   "outputs": [
    {
     "data": {
      "text/plain": [
       "3"
      ]
     },
     "execution_count": 11,
     "metadata": {},
     "output_type": "execute_result"
    }
   ],
   "source": [
    "len(\n",
    "    re.findall(NEAR_regex(words,2),\n",
    "               test)\n",
    ")"
   ]
  },
  {
   "cell_type": "markdown",
   "id": "35af4af7-3476-48af-8aa6-301cef10f854",
   "metadata": {},
   "source": [
    "## Building and practicing a search\n",
    "\n",
    "The idea is to translate some of our manual 10-K findings to code.\n",
    "\n",
    "1. **Start with a string that you know discuses your topic**\n",
    "2. Clean it like you will clean the document (the steps in 4.4 and 4.4.4.4)\n",
    "3. Tweak and play with the regex until your search finds the match.\n",
    "    - Below, we looked for \"cycle\" near \"risk\" to catch business cycle risk. \n",
    "    - Except that didn't work. The \"risk\" term was \"susceptible\".\n",
    "    - That still didn't work. So we added other versions of the word cycle\n"
   ]
  },
  {
   "cell_type": "code",
   "execution_count": null,
   "id": "57b3d6c2-dccc-4c4d-8fa3-81c416796059",
   "metadata": {},
   "outputs": [],
   "source": [
    "# this sentence talks about biz cycle risk\n",
    "text = \"Our future growth and success is dependent \\n \\r \\t upon consumers’ willingness to adopt electric vehicles and specifically our vehicles. We operate in the automotive industry, which is generally susceptible to cyclicality and volatility. \"\n",
    "\n",
    "# clean the document/string: putting the \"Good ideas\" from 4.4 to work to clean the document:\n",
    "lower = text.lower()\n",
    "no_punc = re.sub(r'\\W',' ',lower)\n",
    "cleaned = re.sub(r'\\s+',' ',no_punc).strip()"
   ]
  },
  {
   "cell_type": "code",
   "execution_count": null,
   "id": "95459bcb-0978-4c4b-9a70-b51311417168",
   "metadata": {},
   "outputs": [
    {
     "data": {
      "text/plain": [
       "'our future growth and success is dependent upon consumers willingness to adopt electric vehicles and specifically our vehicles we operate in the automotive industry which is generally susceptible to cyclicality and volatility'"
      ]
     },
     "execution_count": 16,
     "metadata": {},
     "output_type": "execute_result"
    }
   ],
   "source": [
    "cleaned"
   ]
  },
  {
   "cell_type": "markdown",
   "id": "409e6d72-7ecd-4ba0-893c-c2027e7bfa93",
   "metadata": {},
   "source": [
    "We ended up with this search, but I'd still want to tweak it more:"
   ]
  },
  {
   "cell_type": "code",
   "execution_count": 18,
   "id": "73e61cc7-4671-4d0b-bed2-788dd1aabb87",
   "metadata": {},
   "outputs": [
    {
     "data": {
      "text/plain": [
       "1"
      ]
     },
     "execution_count": 18,
     "metadata": {},
     "output_type": "execute_result"
    }
   ],
   "source": [
    "len(re.findall(\n",
    "    NEAR_regex(['(cycle|cyclical|cyclicality)','(risk|susceptible)'],10),\n",
    "    cleaned))"
   ]
  },
  {
   "cell_type": "markdown",
   "id": "04092438-44d8-4ffc-8dbc-396bd55244c9",
   "metadata": {},
   "source": [
    "_Notice we used the [tips](https://ledatascifi.github.io/ledatascifi-2022/content/04/02d_RegexApplication.html?highlight=actually%20detect#tips) from the website to add synonyms to the search._"
   ]
  },
  {
   "cell_type": "markdown",
   "id": "92e16a43-8f96-4c55-8d0b-fbe8054e1640",
   "metadata": {},
   "source": [
    "## Other things\n",
    "\n",
    "## How do I know if my search terms and choices are good?\n",
    "\n",
    "1. **YOU WANT YOUR SEARCH TO CATCH DISCUSSIONS WHERE YOU KNOW IT EXISTS.** \n",
    "    - So find examples of such discussions by looking at 5-15 10-Ks. Look for patterns with how the discussions are made and common terms used. This will help you build a list of words to use. \n",
    "1. **BE CAREFUL TO NOT BE TOO BROAD! You don't want \"false positives\"!**\n",
    "    - Searching for \"comp\"  with `partial=True` will get competition, competing, but also completion, and many other words not related to competition.\n",
    "    - Being careful with the words you allow (hopefully they don't have multiple uses) and explicitly listing allowable  synonyms (instead of using `partial=True`, use `partial=False` and list synonyms)\n",
    "\n",
    "### How many words apart should we allow?\n",
    "\n",
    "After we cleaned the text above, periods and paragraph breaks disappeared. So you can't rely on \"is this the same paragraph or the same sentence\". \n",
    "\n",
    "Think about the number of words in a typical sentence or paragraph or clause. If your words should be adjectives, the words between should probably be 0 or 1. If they should be nearby modifiers, maybe 5 or 10. Same sentence? Maybe 10 or 20. \n",
    "\n",
    "Ultimately, the answer is somewhat ad-hoc. \n",
    "- If some of your example paragraphs have a long gap between the two related terms, then you can show that and say that's why you increased the distance.\n",
    "- Run your searches and examine the matches when you have different distances. If at some limit you start getting false matches, like \"The cycle is complete: I finally won a game of risk\", then reduce the distance allowed. \n"
   ]
  },
  {
   "cell_type": "markdown",
   "id": "ec890932-1a3b-445f-aafd-e95607bd9843",
   "metadata": {},
   "source": [
    "### Cleaning the 10K html \n",
    "\n",
    "Our loop above requires us to\n",
    "1. open a 10-K (which you can do as long as you can figure out the path to each 10K, and there are hints above on that)\n",
    "2. **get the text of the 10-K out of the HTML**\n",
    "3. define our search terms, and run them\n",
    "4. put the number of hits into the dataset\n",
    "\n",
    "On Wednesday, I will show you a bit about how to get the text out of the 10-K, and we will do some more practice and discussion of search terms. "
   ]
  }
 ],
 "metadata": {
  "kernelspec": {
   "display_name": "Python 3 (ipykernel)",
   "language": "python",
   "name": "python3"
  },
  "language_info": {
   "codemirror_mode": {
    "name": "ipython",
    "version": 3
   },
   "file_extension": ".py",
   "mimetype": "text/x-python",
   "name": "python",
   "nbconvert_exporter": "python",
   "pygments_lexer": "ipython3",
   "version": "3.8.12"
  }
 },
 "nbformat": 4,
 "nbformat_minor": 5
}
