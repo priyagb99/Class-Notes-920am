{
 "cells": [
  {
   "cell_type": "code",
   "execution_count": null,
   "id": "396a3d0a-fe4d-4858-81f0-d93f150bdddd",
   "metadata": {},
   "outputs": [],
   "source": [
    "import glob\n",
    "import os\n",
    "from time import sleep\n",
    "\n",
    "import pandas as pd\n",
    "from sec_edgar_downloader import Downloader\n",
    "from tqdm import tqdm"
   ]
  },
  {
   "cell_type": "code",
   "execution_count": null,
   "id": "7210eb4e-150a-4efd-b30f-1f054071eb11",
   "metadata": {},
   "outputs": [],
   "source": [
    "# places to put files - best practice chapter 2!\n",
    "\n",
    "os.makedirs(\"input\", exist_ok=True)\n",
    "os.makedirs(\"10k_files\", exist_ok=True)\n",
    "\n",
    "dl = Downloader('10k_files')"
   ]
  },
  {
   "cell_type": "code",
   "execution_count": null,
   "id": "e3670762-ffcd-4cf4-bc87-e93a73f95a62",
   "metadata": {},
   "outputs": [],
   "source": [
    "# download sample (somewhat simplistic option!)\n",
    "\n",
    "sample_csv = \"input/sp500_firms.csv\"\n",
    "if not os.path.exists(sample_csv):\n",
    "    url = \"https://en.wikipedia.org/wiki/List_of_S%26P_500_companies\"\n",
    "    sample = pd.read_html(url)[0]\n",
    "    sample.to_csv(sample_csv, index=False)\n",
    "else:\n",
    "    sample = pd.read_csv(sample_csv)"
   ]
  },
  {
   "cell_type": "code",
   "execution_count": null,
   "id": "66669168-cb12-4a8c-bd8d-621b40339516",
   "metadata": {},
   "outputs": [],
   "source": [
    "for firm in tqdm(sample['Symbol'][:10]):\n",
    "\n",
    "    # an overly simply option that might be too restrictive on bolder projects\n",
    "    # just look to see if we have a folder for that firm's 10-K and assume\n",
    "    # that means we have the 10-k for the right date (we could write a way to\n",
    "    # verify that)\n",
    "    firm_folder = \"10k_files/sec-edgar-filings/\" + firm\n",
    "    \n",
    "    html_files = glob.glob(firm_folder  + '/**/*.html', recursive=True)\n",
    "    if len(html_files) == 0:\n",
    "        dl.get(\"10-K\", firm, amount=1, after=\"2019-03-01\", before=\"2020-03-21\")\n",
    "\n",
    "    # if I have downloaded txt files inside firm_folder:\n",
    "    # get list of .txt in the firms folder\n",
    "    # print them! once you're printing them, you can just...\n",
    "    # delete them\n",
    "    for f in glob.glob(firm_folder  + '/**/*.txt', recursive=True):\n",
    "        os.remove(f)"
   ]
  }
 ],
 "metadata": {
  "kernelspec": {
   "display_name": "Python 3 (ipykernel)",
   "language": "python",
   "name": "python3"
  },
  "language_info": {
   "codemirror_mode": {
    "name": "ipython",
    "version": 3
   },
   "file_extension": ".py",
   "mimetype": "text/x-python",
   "name": "python",
   "nbconvert_exporter": "python",
   "pygments_lexer": "ipython3",
   "version": "3.8.12"
  }
 },
 "nbformat": 4,
 "nbformat_minor": 5
}
