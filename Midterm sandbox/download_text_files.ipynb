{
 "cells": [
  {
   "cell_type": "markdown",
   "id": "ca800ca7-1c78-4809-a103-5103f1883894",
   "metadata": {},
   "source": [
    "# Just sandboxing the midterm project\n",
    "\n",
    "This file is ugly for now, but should be cleaned up and polished when it's \"game time\""
   ]
  },
  {
   "cell_type": "code",
   "execution_count": 21,
   "id": "7350f40e-0f3a-41b0-8dcd-da721c4863c4",
   "metadata": {},
   "outputs": [],
   "source": [
    "import pandas as pd\n",
    "from sec_edgar_downloader import Downloader\n",
    "import os"
   ]
  },
  {
   "cell_type": "code",
   "execution_count": 22,
   "id": "c9888d49-c6e6-4a1c-b1df-ef81428eb656",
   "metadata": {},
   "outputs": [],
   "source": [
    "# places to put files - best practice chapter 2!\n",
    "os.makedirs('input',exist_ok=True)     # smaller inputs here\n",
    "os.makedirs('10k_files',exist_ok=True) # huge folder, not on github, lots of files"
   ]
  },
  {
   "cell_type": "code",
   "execution_count": 7,
   "id": "c466d4d9-4900-4c27-bbdb-e9a4064fca8a",
   "metadata": {},
   "outputs": [],
   "source": [
    "# download sample (somewhat simplistic option!)\n",
    "url = 'https://en.wikipedia.org/wiki/List_of_S%26P_500_companies'\n",
    "sample = pd.read_html(url)[0]\n",
    "sample.to_csv('input/sp500_firms.csv')"
   ]
  },
  {
   "cell_type": "code",
   "execution_count": 23,
   "id": "72a8861e-bdaf-4a78-82d0-ba161aafb0f4",
   "metadata": {},
   "outputs": [],
   "source": [
    "# download ONE 10k\n",
    "dl = Downloader(\"10k_files\")"
   ]
  },
  {
   "cell_type": "code",
   "execution_count": 24,
   "id": "fa0a9380-61c0-445f-88ec-9f918c0487fc",
   "metadata": {},
   "outputs": [
    {
     "data": {
      "text/plain": [
       "1"
      ]
     },
     "execution_count": 24,
     "metadata": {},
     "output_type": "execute_result"
    }
   ],
   "source": [
    "dl.get(\"10-K\", \"MSFT\", amount=1)"
   ]
  },
  {
   "cell_type": "markdown",
   "id": "ab042158-a204-4608-9bc7-ab87b5715190",
   "metadata": {},
   "source": [
    "How big would 500 of this be?\n",
    "\n",
    "31.6MB (the size of the 10k folder) times 500 is... 15GB?! Hopefully not!"
   ]
  },
  {
   "cell_type": "code",
   "execution_count": null,
   "id": "18f7a158-6bc1-4c42-88d9-dd2aff61f1e4",
   "metadata": {},
   "outputs": [],
   "source": []
  }
 ],
 "metadata": {
  "kernelspec": {
   "display_name": "Python 3 (ipykernel)",
   "language": "python",
   "name": "python3"
  },
  "language_info": {
   "codemirror_mode": {
    "name": "ipython",
    "version": 3
   },
   "file_extension": ".py",
   "mimetype": "text/x-python",
   "name": "python",
   "nbconvert_exporter": "python",
   "pygments_lexer": "ipython3",
   "version": "3.8.12"
  }
 },
 "nbformat": 4,
 "nbformat_minor": 5
}
