{
 "cells": [
  {
   "cell_type": "markdown",
   "id": "16b3e546-296c-4d7e-b8c3-cac7280db97f",
   "metadata": {},
   "source": [
    "# Classification Models\n",
    "\n",
    "A **classification model** is when you're predicting an outcome with discrete levels. It can be binary (default vs paid off), or multinomial (red, orange, yellow, green, blue, indigo, violet).\n",
    "\n",
    "We actually estimated a classification model in the last worksheet: Did borrowers pay back a loan?\n",
    "\n",
    "In this worksheet:\n",
    "\n",
    "- [ ] Ways to evaluate classification models\n",
    "    - You can output a classification report and 5 figures\n",
    "    - You can use and interpret those outputs\n",
    "- [ ] The problem of imbalanced data\n",
    "- [ ] Thinking about the objective: what to maximize and/or minimize in your model   \n",
    "    "
   ]
  },
  {
   "cell_type": "code",
   "execution_count": 1,
   "id": "2e8ccb8c-f508-4022-bbca-f3a03311a038",
   "metadata": {},
   "outputs": [],
   "source": [
    "import matplotlib.pyplot as plt\n",
    "import pandas as pd\n",
    "from df_after_transform import df_after_transform\n",
    "from sklearn import set_config\n",
    "from sklearn.calibration import CalibrationDisplay\n",
    "from sklearn.compose import (\n",
    "    ColumnTransformer,\n",
    "    make_column_selector,\n",
    "    make_column_transformer,\n",
    ")\n",
    "from sklearn.impute import SimpleImputer\n",
    "from sklearn.linear_model import LogisticRegression\n",
    "from sklearn.metrics import (\n",
    "    ConfusionMatrixDisplay,\n",
    "    DetCurveDisplay,\n",
    "    PrecisionRecallDisplay,\n",
    "    RocCurveDisplay,\n",
    "    classification_report,\n",
    ")\n",
    "from sklearn.model_selection import (\n",
    "    GridSearchCV,\n",
    "    KFold,\n",
    "    cross_validate,\n",
    "    train_test_split,\n",
    ")\n",
    "from sklearn.pipeline import make_pipeline\n",
    "from sklearn.preprocessing import OneHotEncoder, StandardScaler\n",
    "\n",
    "set_config(display=\"diagram\")  # display='text' is the default\n",
    "\n",
    "pd.set_option(\n",
    "    \"display.max_colwidth\", 1000, \"display.max_rows\", 50, \"display.max_columns\", None\n",
    ")"
   ]
  },
  {
   "cell_type": "markdown",
   "id": "95cdaf8d-899f-41f5-b520-79da9c5284d5",
   "metadata": {},
   "source": [
    "## Load data "
   ]
  },
  {
   "cell_type": "code",
   "execution_count": 2,
   "id": "f5771be6-0588-440b-b738-5a55f50bb6d8",
   "metadata": {},
   "outputs": [],
   "source": [
    "loans = pd.read_csv('inputs/2013_subsample.zip')"
   ]
  },
  {
   "cell_type": "markdown",
   "id": "4d81a81b-7e5d-4483-a987-90e2fd8c70d3",
   "metadata": {},
   "source": [
    "## Create the training and holdout samples\n",
    "\n",
    "Here, we will use `test_train_split`, though this might not "
   ]
  },
  {
   "cell_type": "code",
   "execution_count": 3,
   "id": "ef9807f9-3c31-48bd-b380-701d5f99b1bf",
   "metadata": {},
   "outputs": [],
   "source": [
    "# first let's separate y from X (as is typically done)\n",
    "y = loans.loan_status == \"Charged Off\"\n",
    "y.value_counts()\n",
    "loans = loans.drop(\"loan_status\", axis=1)\n",
    "\n",
    "# stratify will make sure that test/train both have equal fractions of outcome\n",
    "X_train, X_test, y_train, y_test = train_test_split(\n",
    "    loans, y, stratify=y, test_size=0.2, random_state=0\n",
    ")"
   ]
  },
  {
   "cell_type": "markdown",
   "id": "da90522f-d069-4649-ad7c-32aa03ae3d4a",
   "metadata": {},
   "source": [
    "## Setting up _one_ classification model\n",
    "\n",
    "_Note: `preproc_pipe` is the exact same as last time, but I've defined it in a different (easier?) way, and I've named the whole pipeline `clf_logit`_"
   ]
  },
  {
   "cell_type": "code",
   "execution_count": 4,
   "id": "f50d75a3-8867-4c6d-a190-15a7b9fedfb4",
   "metadata": {},
   "outputs": [],
   "source": [
    "# set up pipeline to clean each type of variable (1 pipe per var type)\n",
    "\n",
    "numer_pipe = make_pipeline(SimpleImputer(strategy=\"mean\"), StandardScaler())\n",
    "\n",
    "cat_pipe = make_pipeline(OneHotEncoder(drop=\"first\"))\n",
    "\n",
    "# combine those (make_column_transformer is like make_pipeline, maybe easier on the eyes!)\n",
    "\n",
    "preproc_pipe = make_column_transformer(\n",
    "    (numer_pipe, [\"annual_inc\", \"int_rate\"]),\n",
    "    (cat_pipe, [\"grade\"]),\n",
    "    remainder=\"drop\",\n",
    ")\n",
    "\n",
    "# estimator\n",
    "\n",
    "clf_logit = make_pipeline(preproc_pipe, LogisticRegression())"
   ]
  },
  {
   "cell_type": "markdown",
   "id": "7fb45098-f54d-4c79-9297-5e074624641a",
   "metadata": {},
   "source": [
    "I'm going to fit it to the whole training dataset. This means what we're about to learn is being done without CV for now, and will likely result in overconfident performance metrics."
   ]
  },
  {
   "cell_type": "code",
   "execution_count": 5,
   "id": "7b1da5a7-664a-41eb-9c67-424a23a83c6e",
   "metadata": {},
   "outputs": [
    {
     "data": {
      "text/html": [
       "<style>#sk-84142025-2691-47ce-b44b-7a2092ff0e24 {color: black;background-color: white;}#sk-84142025-2691-47ce-b44b-7a2092ff0e24 pre{padding: 0;}#sk-84142025-2691-47ce-b44b-7a2092ff0e24 div.sk-toggleable {background-color: white;}#sk-84142025-2691-47ce-b44b-7a2092ff0e24 label.sk-toggleable__label {cursor: pointer;display: block;width: 100%;margin-bottom: 0;padding: 0.3em;box-sizing: border-box;text-align: center;}#sk-84142025-2691-47ce-b44b-7a2092ff0e24 label.sk-toggleable__label-arrow:before {content: \"▸\";float: left;margin-right: 0.25em;color: #696969;}#sk-84142025-2691-47ce-b44b-7a2092ff0e24 label.sk-toggleable__label-arrow:hover:before {color: black;}#sk-84142025-2691-47ce-b44b-7a2092ff0e24 div.sk-estimator:hover label.sk-toggleable__label-arrow:before {color: black;}#sk-84142025-2691-47ce-b44b-7a2092ff0e24 div.sk-toggleable__content {max-height: 0;max-width: 0;overflow: hidden;text-align: left;background-color: #f0f8ff;}#sk-84142025-2691-47ce-b44b-7a2092ff0e24 div.sk-toggleable__content pre {margin: 0.2em;color: black;border-radius: 0.25em;background-color: #f0f8ff;}#sk-84142025-2691-47ce-b44b-7a2092ff0e24 input.sk-toggleable__control:checked~div.sk-toggleable__content {max-height: 200px;max-width: 100%;overflow: auto;}#sk-84142025-2691-47ce-b44b-7a2092ff0e24 input.sk-toggleable__control:checked~label.sk-toggleable__label-arrow:before {content: \"▾\";}#sk-84142025-2691-47ce-b44b-7a2092ff0e24 div.sk-estimator input.sk-toggleable__control:checked~label.sk-toggleable__label {background-color: #d4ebff;}#sk-84142025-2691-47ce-b44b-7a2092ff0e24 div.sk-label input.sk-toggleable__control:checked~label.sk-toggleable__label {background-color: #d4ebff;}#sk-84142025-2691-47ce-b44b-7a2092ff0e24 input.sk-hidden--visually {border: 0;clip: rect(1px 1px 1px 1px);clip: rect(1px, 1px, 1px, 1px);height: 1px;margin: -1px;overflow: hidden;padding: 0;position: absolute;width: 1px;}#sk-84142025-2691-47ce-b44b-7a2092ff0e24 div.sk-estimator {font-family: monospace;background-color: #f0f8ff;border: 1px dotted black;border-radius: 0.25em;box-sizing: border-box;margin-bottom: 0.5em;}#sk-84142025-2691-47ce-b44b-7a2092ff0e24 div.sk-estimator:hover {background-color: #d4ebff;}#sk-84142025-2691-47ce-b44b-7a2092ff0e24 div.sk-parallel-item::after {content: \"\";width: 100%;border-bottom: 1px solid gray;flex-grow: 1;}#sk-84142025-2691-47ce-b44b-7a2092ff0e24 div.sk-label:hover label.sk-toggleable__label {background-color: #d4ebff;}#sk-84142025-2691-47ce-b44b-7a2092ff0e24 div.sk-serial::before {content: \"\";position: absolute;border-left: 1px solid gray;box-sizing: border-box;top: 2em;bottom: 0;left: 50%;}#sk-84142025-2691-47ce-b44b-7a2092ff0e24 div.sk-serial {display: flex;flex-direction: column;align-items: center;background-color: white;padding-right: 0.2em;padding-left: 0.2em;}#sk-84142025-2691-47ce-b44b-7a2092ff0e24 div.sk-item {z-index: 1;}#sk-84142025-2691-47ce-b44b-7a2092ff0e24 div.sk-parallel {display: flex;align-items: stretch;justify-content: center;background-color: white;}#sk-84142025-2691-47ce-b44b-7a2092ff0e24 div.sk-parallel::before {content: \"\";position: absolute;border-left: 1px solid gray;box-sizing: border-box;top: 2em;bottom: 0;left: 50%;}#sk-84142025-2691-47ce-b44b-7a2092ff0e24 div.sk-parallel-item {display: flex;flex-direction: column;position: relative;background-color: white;}#sk-84142025-2691-47ce-b44b-7a2092ff0e24 div.sk-parallel-item:first-child::after {align-self: flex-end;width: 50%;}#sk-84142025-2691-47ce-b44b-7a2092ff0e24 div.sk-parallel-item:last-child::after {align-self: flex-start;width: 50%;}#sk-84142025-2691-47ce-b44b-7a2092ff0e24 div.sk-parallel-item:only-child::after {width: 0;}#sk-84142025-2691-47ce-b44b-7a2092ff0e24 div.sk-dashed-wrapped {border: 1px dashed gray;margin: 0 0.4em 0.5em 0.4em;box-sizing: border-box;padding-bottom: 0.4em;background-color: white;position: relative;}#sk-84142025-2691-47ce-b44b-7a2092ff0e24 div.sk-label label {font-family: monospace;font-weight: bold;background-color: white;display: inline-block;line-height: 1.2em;}#sk-84142025-2691-47ce-b44b-7a2092ff0e24 div.sk-label-container {position: relative;z-index: 2;text-align: center;}#sk-84142025-2691-47ce-b44b-7a2092ff0e24 div.sk-container {/* jupyter's `normalize.less` sets `[hidden] { display: none; }` but bootstrap.min.css set `[hidden] { display: none !important; }` so we also need the `!important` here to be able to override the default hidden behavior on the sphinx rendered scikit-learn.org. See: https://github.com/scikit-learn/scikit-learn/issues/21755 */display: inline-block !important;position: relative;}#sk-84142025-2691-47ce-b44b-7a2092ff0e24 div.sk-text-repr-fallback {display: none;}</style><div id=\"sk-84142025-2691-47ce-b44b-7a2092ff0e24\" class=\"sk-top-container\"><div class=\"sk-text-repr-fallback\"><pre>Pipeline(steps=[(&#x27;columntransformer&#x27;,\n",
       "                 ColumnTransformer(transformers=[(&#x27;pipeline-1&#x27;,\n",
       "                                                  Pipeline(steps=[(&#x27;simpleimputer&#x27;,\n",
       "                                                                   SimpleImputer()),\n",
       "                                                                  (&#x27;standardscaler&#x27;,\n",
       "                                                                   StandardScaler())]),\n",
       "                                                  [&#x27;annual_inc&#x27;, &#x27;int_rate&#x27;]),\n",
       "                                                 (&#x27;pipeline-2&#x27;,\n",
       "                                                  Pipeline(steps=[(&#x27;onehotencoder&#x27;,\n",
       "                                                                   OneHotEncoder(drop=&#x27;first&#x27;))]),\n",
       "                                                  [&#x27;grade&#x27;])])),\n",
       "                (&#x27;logisticregression&#x27;, LogisticRegression())])</pre><b>Please rerun this cell to show the HTML repr or trust the notebook.</b></div><div class=\"sk-container\" hidden><div class=\"sk-item sk-dashed-wrapped\"><div class=\"sk-label-container\"><div class=\"sk-label sk-toggleable\"><input class=\"sk-toggleable__control sk-hidden--visually\" id=\"3ca693e1-2659-46dd-91e2-b970aa04036b\" type=\"checkbox\" ><label for=\"3ca693e1-2659-46dd-91e2-b970aa04036b\" class=\"sk-toggleable__label sk-toggleable__label-arrow\">Pipeline</label><div class=\"sk-toggleable__content\"><pre>Pipeline(steps=[(&#x27;columntransformer&#x27;,\n",
       "                 ColumnTransformer(transformers=[(&#x27;pipeline-1&#x27;,\n",
       "                                                  Pipeline(steps=[(&#x27;simpleimputer&#x27;,\n",
       "                                                                   SimpleImputer()),\n",
       "                                                                  (&#x27;standardscaler&#x27;,\n",
       "                                                                   StandardScaler())]),\n",
       "                                                  [&#x27;annual_inc&#x27;, &#x27;int_rate&#x27;]),\n",
       "                                                 (&#x27;pipeline-2&#x27;,\n",
       "                                                  Pipeline(steps=[(&#x27;onehotencoder&#x27;,\n",
       "                                                                   OneHotEncoder(drop=&#x27;first&#x27;))]),\n",
       "                                                  [&#x27;grade&#x27;])])),\n",
       "                (&#x27;logisticregression&#x27;, LogisticRegression())])</pre></div></div></div><div class=\"sk-serial\"><div class=\"sk-item sk-dashed-wrapped\"><div class=\"sk-label-container\"><div class=\"sk-label sk-toggleable\"><input class=\"sk-toggleable__control sk-hidden--visually\" id=\"67d2195c-54e1-4ed5-8cbc-170ca84fb946\" type=\"checkbox\" ><label for=\"67d2195c-54e1-4ed5-8cbc-170ca84fb946\" class=\"sk-toggleable__label sk-toggleable__label-arrow\">columntransformer: ColumnTransformer</label><div class=\"sk-toggleable__content\"><pre>ColumnTransformer(transformers=[(&#x27;pipeline-1&#x27;,\n",
       "                                 Pipeline(steps=[(&#x27;simpleimputer&#x27;,\n",
       "                                                  SimpleImputer()),\n",
       "                                                 (&#x27;standardscaler&#x27;,\n",
       "                                                  StandardScaler())]),\n",
       "                                 [&#x27;annual_inc&#x27;, &#x27;int_rate&#x27;]),\n",
       "                                (&#x27;pipeline-2&#x27;,\n",
       "                                 Pipeline(steps=[(&#x27;onehotencoder&#x27;,\n",
       "                                                  OneHotEncoder(drop=&#x27;first&#x27;))]),\n",
       "                                 [&#x27;grade&#x27;])])</pre></div></div></div><div class=\"sk-parallel\"><div class=\"sk-parallel-item\"><div class=\"sk-item\"><div class=\"sk-label-container\"><div class=\"sk-label sk-toggleable\"><input class=\"sk-toggleable__control sk-hidden--visually\" id=\"e17ec884-44dc-4862-b677-e4637ff7f853\" type=\"checkbox\" ><label for=\"e17ec884-44dc-4862-b677-e4637ff7f853\" class=\"sk-toggleable__label sk-toggleable__label-arrow\">pipeline-1</label><div class=\"sk-toggleable__content\"><pre>[&#x27;annual_inc&#x27;, &#x27;int_rate&#x27;]</pre></div></div></div><div class=\"sk-serial\"><div class=\"sk-item\"><div class=\"sk-serial\"><div class=\"sk-item\"><div class=\"sk-estimator sk-toggleable\"><input class=\"sk-toggleable__control sk-hidden--visually\" id=\"2ce2ec28-b146-4dd7-bbc0-e4ecbea23218\" type=\"checkbox\" ><label for=\"2ce2ec28-b146-4dd7-bbc0-e4ecbea23218\" class=\"sk-toggleable__label sk-toggleable__label-arrow\">SimpleImputer</label><div class=\"sk-toggleable__content\"><pre>SimpleImputer()</pre></div></div></div><div class=\"sk-item\"><div class=\"sk-estimator sk-toggleable\"><input class=\"sk-toggleable__control sk-hidden--visually\" id=\"f02f8f10-a18a-4610-be92-e5d72456a394\" type=\"checkbox\" ><label for=\"f02f8f10-a18a-4610-be92-e5d72456a394\" class=\"sk-toggleable__label sk-toggleable__label-arrow\">StandardScaler</label><div class=\"sk-toggleable__content\"><pre>StandardScaler()</pre></div></div></div></div></div></div></div></div><div class=\"sk-parallel-item\"><div class=\"sk-item\"><div class=\"sk-label-container\"><div class=\"sk-label sk-toggleable\"><input class=\"sk-toggleable__control sk-hidden--visually\" id=\"d280b3a4-e7ba-4d5b-b6a8-005b78c8e269\" type=\"checkbox\" ><label for=\"d280b3a4-e7ba-4d5b-b6a8-005b78c8e269\" class=\"sk-toggleable__label sk-toggleable__label-arrow\">pipeline-2</label><div class=\"sk-toggleable__content\"><pre>[&#x27;grade&#x27;]</pre></div></div></div><div class=\"sk-serial\"><div class=\"sk-item\"><div class=\"sk-serial\"><div class=\"sk-item\"><div class=\"sk-estimator sk-toggleable\"><input class=\"sk-toggleable__control sk-hidden--visually\" id=\"8e4db498-550a-4c1b-9ed5-9175b150599a\" type=\"checkbox\" ><label for=\"8e4db498-550a-4c1b-9ed5-9175b150599a\" class=\"sk-toggleable__label sk-toggleable__label-arrow\">OneHotEncoder</label><div class=\"sk-toggleable__content\"><pre>OneHotEncoder(drop=&#x27;first&#x27;)</pre></div></div></div></div></div></div></div></div></div></div><div class=\"sk-item\"><div class=\"sk-estimator sk-toggleable\"><input class=\"sk-toggleable__control sk-hidden--visually\" id=\"8549febf-0ae6-4d98-8c2a-383c462703ec\" type=\"checkbox\" ><label for=\"8549febf-0ae6-4d98-8c2a-383c462703ec\" class=\"sk-toggleable__label sk-toggleable__label-arrow\">LogisticRegression</label><div class=\"sk-toggleable__content\"><pre>LogisticRegression()</pre></div></div></div></div></div></div></div>"
      ],
      "text/plain": [
       "Pipeline(steps=[('columntransformer',\n",
       "                 ColumnTransformer(transformers=[('pipeline-1',\n",
       "                                                  Pipeline(steps=[('simpleimputer',\n",
       "                                                                   SimpleImputer()),\n",
       "                                                                  ('standardscaler',\n",
       "                                                                   StandardScaler())]),\n",
       "                                                  ['annual_inc', 'int_rate']),\n",
       "                                                 ('pipeline-2',\n",
       "                                                  Pipeline(steps=[('onehotencoder',\n",
       "                                                                   OneHotEncoder(drop='first'))]),\n",
       "                                                  ['grade'])])),\n",
       "                ('logisticregression', LogisticRegression())])"
      ]
     },
     "execution_count": 5,
     "metadata": {},
     "output_type": "execute_result"
    }
   ],
   "source": [
    "clf_logit.fit(X_train, y_train) "
   ]
  },
  {
   "cell_type": "markdown",
   "id": "42585599-384e-4b0f-bd60-339f50df5cf7",
   "metadata": {},
   "source": [
    "## Evaluating the classification model\n",
    "\n",
    "### Classification Report\n",
    "\n",
    "**The first thing you should do with a classification model is output a `classification_report`.**\n",
    "\n",
    "_Ignore the Warnings. This table is correct. It's just mad that our model is so bad we never predict a default!_\n",
    "\n",
    "The definition of precision and recall and f1-score [are here.](https://ledatascifi.github.io/ledatascifi-2022/content/05/03d_whatToMax.html)\n",
    "- Precision measures: When we predict an outcome, how often does that happen? (Are the predictions precise?)\n",
    "- Recall: What fraction of an outcome's occurrences does your model detect? (\"Does the model recall the true occurrences?\")\n",
    "    - Aka sensitivity: A sensitive model detects an outcome happening more often?\n",
    "- Accuracy: Fraction of labels that are correct across all observations\n",
    "- `macro_avg`: Simple average of the stats above the blank line.\n",
    "    - The average of the precision in the False and True observations here (0.84 and 0) is 0.42\n",
    "- `weighted_avg`: Average of the stats above the blank line, weighted by the number of observations in each outcome type\n"
   ]
  },
  {
   "cell_type": "code",
   "execution_count": 6,
   "id": "b0335e21-0d46-4f28-8c2a-7ecb461bdbf7",
   "metadata": {},
   "outputs": [
    {
     "name": "stderr",
     "output_type": "stream",
     "text": [
      "C:\\Users\\DonsLaptop\\anaconda3\\lib\\site-packages\\sklearn\\metrics\\_classification.py:1318: UndefinedMetricWarning: Precision and F-score are ill-defined and being set to 0.0 in labels with no predicted samples. Use `zero_division` parameter to control this behavior.\n",
      "  _warn_prf(average, modifier, msg_start, len(result))\n",
      "C:\\Users\\DonsLaptop\\anaconda3\\lib\\site-packages\\sklearn\\metrics\\_classification.py:1318: UndefinedMetricWarning: Precision and F-score are ill-defined and being set to 0.0 in labels with no predicted samples. Use `zero_division` parameter to control this behavior.\n",
      "  _warn_prf(average, modifier, msg_start, len(result))\n"
     ]
    },
    {
     "name": "stdout",
     "output_type": "stream",
     "text": [
      "              precision    recall  f1-score   support\n",
      "\n",
      "       False       0.84      1.00      0.92     91024\n",
      "        True       0.00      0.00      0.00     16819\n",
      "\n",
      "    accuracy                           0.84    107843\n",
      "   macro avg       0.42      0.50      0.46    107843\n",
      "weighted avg       0.71      0.84      0.77    107843\n",
      "\n"
     ]
    },
    {
     "name": "stderr",
     "output_type": "stream",
     "text": [
      "C:\\Users\\DonsLaptop\\anaconda3\\lib\\site-packages\\sklearn\\metrics\\_classification.py:1318: UndefinedMetricWarning: Precision and F-score are ill-defined and being set to 0.0 in labels with no predicted samples. Use `zero_division` parameter to control this behavior.\n",
      "  _warn_prf(average, modifier, msg_start, len(result))\n"
     ]
    }
   ],
   "source": [
    "print(classification_report(y_train, \n",
    "                            clf_logit.predict(X_train)))"
   ]
  },
  {
   "cell_type": "markdown",
   "id": "2a47afd1-5cde-482e-8c88-22cada07f1db",
   "metadata": {},
   "source": [
    "### Confusion Matrix\n",
    "\n",
    "**You should also output a Confusion Matrix, which is a standard way to display how a classifier is doing.**\n",
    "- If you add `normalize='pred'` to the function below, the diagonal elements are your precisions.\n",
    "- If you add `normalize='true'` to the function below, the diagonal elements are your recalls."
   ]
  },
  {
   "cell_type": "code",
   "execution_count": 8,
   "id": "0f9422f3-26db-4c75-a673-98b85aad8232",
   "metadata": {},
   "outputs": [
    {
     "data": {
      "text/plain": [
       "<sklearn.metrics._plot.confusion_matrix.ConfusionMatrixDisplay at 0x1474b2c9d60>"
      ]
     },
     "execution_count": 8,
     "metadata": {},
     "output_type": "execute_result"
    },
    {
     "data": {
      "image/png": "[encoded data removed]",
      "text/plain": [
       "<Figure size 432x288 with 2 Axes>"
      ]
     },
     "metadata": {
      "needs_background": "light"
     },
     "output_type": "display_data"
    }
   ],
   "source": [
    "ConfusionMatrixDisplay.from_estimator(clf_logit, X_train, y_train)"
   ]
  },
  {
   "cell_type": "markdown",
   "id": "f9e24e92-da98-4836-a9d8-1666135e439f",
   "metadata": {},
   "source": [
    "### Calibration display\n",
    "\n",
    "Our logit estimator produces, for each loan, a prediction of the probability of default. A calibration display groups those predictions into buckets (on the x-axis), and reports the average true outcomes for that bucket (on the y-axis). A perfectly calibrated classifier will be on the 45 degree line."
   ]
  },
  {
   "cell_type": "code",
   "execution_count": 9,
   "id": "3d18e1d5-055e-4e41-9ad6-e04c6c60eb0a",
   "metadata": {},
   "outputs": [
    {
     "data": {
      "text/plain": [
       "<sklearn.calibration.CalibrationDisplay at 0x1473deafb80>"
      ]
     },
     "execution_count": 9,
     "metadata": {},
     "output_type": "execute_result"
    },
    {
     "data": {
      "image/png": "[encoded data removed]",
      "text/plain": [
       "<Figure size 432x288 with 1 Axes>"
      ]
     },
     "metadata": {
      "needs_background": "light"
     },
     "output_type": "display_data"
    }
   ],
   "source": [
    "CalibrationDisplay.from_estimator(clf_logit, X_train, y_train)"
   ]
  },
  {
   "cell_type": "markdown",
   "id": "fd5287fc-c635-4135-95cb-71e3d93c7053",
   "metadata": {},
   "source": [
    "This figure suggests that our logit seems to be decently \"calibrated\", even though it is performing AWFULLY in terms of precision and recall on predicting defaults.\n",
    "\n",
    "Indeed, the logit model is producing predictions that are exactly equal to the average in the data! Look:"
   ]
  },
  {
   "cell_type": "code",
   "execution_count": 10,
   "id": "b7682c43-a645-4cb5-ad81-759ca7717b47",
   "metadata": {},
   "outputs": [
    {
     "data": {
      "text/plain": [
       "0.156"
      ]
     },
     "execution_count": 10,
     "metadata": {},
     "output_type": "execute_result"
    }
   ],
   "source": [
    "clf_logit.predict_proba(X_train)[:,1].mean().round(3)"
   ]
  },
  {
   "cell_type": "markdown",
   "id": "5db2f972-edcd-4f83-948c-e230863066d2",
   "metadata": {},
   "source": [
    "What gives? \n",
    "\n",
    "Here's what happens:\n"
   ]
  },
  {
   "cell_type": "code",
   "execution_count": null,
   "id": "5955ab40-4d2d-4841-bc28-fde7514198d4",
   "metadata": {},
   "outputs": [],
   "source": [
    "'''\n",
    "==============================================================================\n",
    "          A flow chart from our model to the final predictions:\n",
    "==============================================================================\n",
    "\n",
    "logit     >      ahat,           >             yhat           >         {0,1}\n",
    "                 bhat                        Pr(y=1|X)\n",
    "      ----------        --------------------           --------------\n",
    "      | .fit() |        | .predict_proba() |           | .predict() |\n",
    "      |        |        |  uses ahat bhat  |           |   uses  ?  |\n",
    "      ----------        --------------------           --------------\n",
    "\n",
    "'''"
   ]
  },
  {
   "cell_type": "markdown",
   "id": "a1fe78bc-8033-415b-9b5a-8e3fc64e3bfc",
   "metadata": {},
   "source": [
    "That last step uses a **\"decision function\"** that maps the yhat values (predicted probabilities) into predictions. \n",
    "\n",
    "To simplify a bit, the **\"default threshold\"** in `sklearn` for logit is 0.5:\n",
    "- If yhat>0.5: predict outcome = 1 \n",
    "- Else: predict outcome = 0\n"
   ]
  },
  {
   "cell_type": "markdown",
   "id": "985aa37b-abbb-4faa-be17-2fb8d6cbe186",
   "metadata": {},
   "source": [
    "**You don't need to use the default threshold! The threshold is a choice a researcher needs to make, as it involves important tradeoffs.**\n",
    "\n",
    "In practice, how you make the choice depends on whether your business problem has larger costs for false positives, false negative, or larger benefits for true positives and true negatives.\n",
    "\n",
    "The next set of diagnostics help you see how changing the threshold can change the performance of the model and assess these tradeoffs."
   ]
  },
  {
   "cell_type": "markdown",
   "id": "5061e9b2-b5ef-4f5f-8b22-1a824abe697f",
   "metadata": {},
   "source": [
    "### Precision-Recall Curves \n",
    "\n",
    "This takes all the predicted probabilities the model produces, and pretends we set a threshold of 0.01, 0.02, ... 0.99. For each possible threshold, compute the precision and recall of the predictions, and then plot them all.\n",
    "\n",
    "In general, this curve will be sloped downwards **because precision and recall are a tradeoff:**\n",
    "- As you increase the threshold, you'll reduce false positives (more precision) because you only predict default for loans you're very confident will default\n",
    "- But as you increase the threshold, you'll predict fewer defaults, meaning you'll miss some. This will result in lower recall stats.\n",
    "\n",
    "The ideal model is the one closest to the upper right corner. (Ouch!)"
   ]
  },
  {
   "cell_type": "code",
   "execution_count": 11,
   "id": "84e81a81-5db5-47d2-9bea-4c987cfe6b44",
   "metadata": {},
   "outputs": [
    {
     "data": {
      "text/plain": [
       "<sklearn.metrics._plot.precision_recall_curve.PrecisionRecallDisplay at 0x1474b628910>"
      ]
     },
     "execution_count": 11,
     "metadata": {},
     "output_type": "execute_result"
    },
    {
     "data": {
      "image/png": "[encoded data removed]",
      "text/plain": [
       "<Figure size 432x288 with 1 Axes>"
      ]
     },
     "metadata": {
      "needs_background": "light"
     },
     "output_type": "display_data"
    }
   ],
   "source": [
    "PrecisionRecallDisplay.from_estimator(clf_logit, X_train, y_train)"
   ]
  },
  {
   "cell_type": "markdown",
   "id": "31d8e808-8e04-4061-9971-cc3c0dd0c0e0",
   "metadata": {},
   "source": [
    "### ROC curve (\"receiver operating characteristic\")\n",
    "\n",
    "This takes all the predicted probabilities the model produces, and pretends we set a threshold of 0.01, 0.02, ... 0.99. For each possible threshold, compute the FPR and the TPR.\n"
   ]
  },
  {
   "cell_type": "code",
   "execution_count": null,
   "id": "ba52a26a-2c19-4a6d-bde7-d14a17338f64",
   "metadata": {},
   "outputs": [],
   "source": [
    "RocCurveDisplay.from_estimator(clf_logit, X_train, y_train)"
   ]
  },
  {
   "cell_type": "markdown",
   "id": "932cff5d-bfe1-4fa9-8dca-d598a9eb810b",
   "metadata": {},
   "source": [
    "- This curve shows that you can alter the threshold to reduce false positives, but at the cost of missing some true positives. \n",
    "- The perfect estimator is the upper left corner.\n",
    "- Different estimators will have differently shaped curves, and the closer it gets to the upper left hand corner, the better.\n",
    "- **\"AUC\"** reports the area under the curve. 1 is a perfect estimator and 0.5 is a random guess.\n",
    "\n",
    "<img src=\"https://upload.wikimedia.org/wikipedia/commons/thumb/1/13/Roc_curve.svg/768px-Roc_curve.svg.png\"  style=\"width:50%;\"> \n",
    "\n",
    "\n"
   ]
  },
  {
   "cell_type": "markdown",
   "id": "39b6f3c8-263c-4b7b-9366-b12df37cffbc",
   "metadata": {},
   "source": [
    "### Detection error tradeoff (DET)\n",
    "\n",
    "This takes all the predicted probabilities the model produces, and pretends we set a threshold of 0.01, 0.02, ... 0.99. For each possible threshold, compute the FPR and the FNR and plot them.\n",
    "\n",
    "The perfect estimator is the lower left corner of the chart. (Ouch!)"
   ]
  },
  {
   "cell_type": "code",
   "execution_count": null,
   "id": "2bcb2927-6ab2-4042-92ab-a9e5cb650b7a",
   "metadata": {},
   "outputs": [],
   "source": [
    "DetCurveDisplay.from_estimator(clf_logit, X_train, y_train)"
   ]
  },
  {
   "cell_type": "markdown",
   "id": "050cfa68-aa5f-43cd-8e11-325bcdffc8e7",
   "metadata": {},
   "source": [
    "## The problem with our estimator: Imbalance\n",
    "\n",
    "The issue that is causing this problem is something that is rampant in real business settings: **\"Imbalanced classes.\"**\n",
    "\n",
    "Meaning: We have 85% and 15% for our two classes (paid off and charged off) instead of 50/50.\n",
    "\n",
    "Imbalance causes problems with many (though not all) ML estimators.\n",
    "\n",
    "By default, `sklearn` treats both outcomes as equally important to predict, which is why it favors the majority class (and always predicts no default).\n",
    "\n",
    "### Options to deal with imbalanced data\n",
    "\n",
    "1. Change estimator to \"weight\" groups equally\n",
    "    - `class-weight=’balanced’` in tree models and logit\n",
    "    - Is \"like\" oversampling, except no slowdown\n",
    "1. Remove data (meaning: undersample overrepresented group)\n",
    "    - Throws data away (hurts predictions!) but estimations faster\n",
    "    - Tradeoff can be worth it: more speed and possibly similar or better predictions\n",
    "1. Add data (meaning: oversample underrepresented group) \n",
    "    - Slower estimations (more data)\n",
    "    \n",
    "### 🔥🔥🔥 Practical tips: 🔥🔥🔥\n",
    "\n",
    "- What works best varies between applications (no \"dominant\")\n",
    "- **Try weighting if estimator will let you, then undersampling**"
   ]
  },
  {
   "cell_type": "markdown",
   "id": "ad26bf2f-2733-4f40-b449-8e5b0b13732c",
   "metadata": {
    "slideshow": {
     "slide_type": "subslide"
    },
    "tags": []
   },
   "source": [
    "### Weighting example\n",
    "\n",
    "Denying a loan to a good customer is not as bad as giving a loan to a bad customer that defaults. You should probably _weigh_ defaults more heavily.\n",
    "\n",
    "The `LogisticRegression()` model has a parameter that lets you decide how you weigh the class's importance. You can manually specific them, but `LogisticRegression(class_weight='balanced')` will cause the minority class to be considered equally important overall. (Maybe you want to weigh even more, which you can do by manually setting the weights.)\n",
    "\n",
    "So, I'm going to change the pipeline to use that parameter:"
   ]
  },
  {
   "cell_type": "code",
   "execution_count": 12,
   "id": "c3008e9b-39c0-4ade-8bd1-f55e05930398",
   "metadata": {},
   "outputs": [
    {
     "data": {
      "text/html": [
       "<style>#sk-f63fadd3-c019-43a5-9d87-90a85cae1787 {color: black;background-color: white;}#sk-f63fadd3-c019-43a5-9d87-90a85cae1787 pre{padding: 0;}#sk-f63fadd3-c019-43a5-9d87-90a85cae1787 div.sk-toggleable {background-color: white;}#sk-f63fadd3-c019-43a5-9d87-90a85cae1787 label.sk-toggleable__label {cursor: pointer;display: block;width: 100%;margin-bottom: 0;padding: 0.3em;box-sizing: border-box;text-align: center;}#sk-f63fadd3-c019-43a5-9d87-90a85cae1787 label.sk-toggleable__label-arrow:before {content: \"▸\";float: left;margin-right: 0.25em;color: #696969;}#sk-f63fadd3-c019-43a5-9d87-90a85cae1787 label.sk-toggleable__label-arrow:hover:before {color: black;}#sk-f63fadd3-c019-43a5-9d87-90a85cae1787 div.sk-estimator:hover label.sk-toggleable__label-arrow:before {color: black;}#sk-f63fadd3-c019-43a5-9d87-90a85cae1787 div.sk-toggleable__content {max-height: 0;max-width: 0;overflow: hidden;text-align: left;background-color: #f0f8ff;}#sk-f63fadd3-c019-43a5-9d87-90a85cae1787 div.sk-toggleable__content pre {margin: 0.2em;color: black;border-radius: 0.25em;background-color: #f0f8ff;}#sk-f63fadd3-c019-43a5-9d87-90a85cae1787 input.sk-toggleable__control:checked~div.sk-toggleable__content {max-height: 200px;max-width: 100%;overflow: auto;}#sk-f63fadd3-c019-43a5-9d87-90a85cae1787 input.sk-toggleable__control:checked~label.sk-toggleable__label-arrow:before {content: \"▾\";}#sk-f63fadd3-c019-43a5-9d87-90a85cae1787 div.sk-estimator input.sk-toggleable__control:checked~label.sk-toggleable__label {background-color: #d4ebff;}#sk-f63fadd3-c019-43a5-9d87-90a85cae1787 div.sk-label input.sk-toggleable__control:checked~label.sk-toggleable__label {background-color: #d4ebff;}#sk-f63fadd3-c019-43a5-9d87-90a85cae1787 input.sk-hidden--visually {border: 0;clip: rect(1px 1px 1px 1px);clip: rect(1px, 1px, 1px, 1px);height: 1px;margin: -1px;overflow: hidden;padding: 0;position: absolute;width: 1px;}#sk-f63fadd3-c019-43a5-9d87-90a85cae1787 div.sk-estimator {font-family: monospace;background-color: #f0f8ff;border: 1px dotted black;border-radius: 0.25em;box-sizing: border-box;margin-bottom: 0.5em;}#sk-f63fadd3-c019-43a5-9d87-90a85cae1787 div.sk-estimator:hover {background-color: #d4ebff;}#sk-f63fadd3-c019-43a5-9d87-90a85cae1787 div.sk-parallel-item::after {content: \"\";width: 100%;border-bottom: 1px solid gray;flex-grow: 1;}#sk-f63fadd3-c019-43a5-9d87-90a85cae1787 div.sk-label:hover label.sk-toggleable__label {background-color: #d4ebff;}#sk-f63fadd3-c019-43a5-9d87-90a85cae1787 div.sk-serial::before {content: \"\";position: absolute;border-left: 1px solid gray;box-sizing: border-box;top: 2em;bottom: 0;left: 50%;}#sk-f63fadd3-c019-43a5-9d87-90a85cae1787 div.sk-serial {display: flex;flex-direction: column;align-items: center;background-color: white;padding-right: 0.2em;padding-left: 0.2em;}#sk-f63fadd3-c019-43a5-9d87-90a85cae1787 div.sk-item {z-index: 1;}#sk-f63fadd3-c019-43a5-9d87-90a85cae1787 div.sk-parallel {display: flex;align-items: stretch;justify-content: center;background-color: white;}#sk-f63fadd3-c019-43a5-9d87-90a85cae1787 div.sk-parallel::before {content: \"\";position: absolute;border-left: 1px solid gray;box-sizing: border-box;top: 2em;bottom: 0;left: 50%;}#sk-f63fadd3-c019-43a5-9d87-90a85cae1787 div.sk-parallel-item {display: flex;flex-direction: column;position: relative;background-color: white;}#sk-f63fadd3-c019-43a5-9d87-90a85cae1787 div.sk-parallel-item:first-child::after {align-self: flex-end;width: 50%;}#sk-f63fadd3-c019-43a5-9d87-90a85cae1787 div.sk-parallel-item:last-child::after {align-self: flex-start;width: 50%;}#sk-f63fadd3-c019-43a5-9d87-90a85cae1787 div.sk-parallel-item:only-child::after {width: 0;}#sk-f63fadd3-c019-43a5-9d87-90a85cae1787 div.sk-dashed-wrapped {border: 1px dashed gray;margin: 0 0.4em 0.5em 0.4em;box-sizing: border-box;padding-bottom: 0.4em;background-color: white;position: relative;}#sk-f63fadd3-c019-43a5-9d87-90a85cae1787 div.sk-label label {font-family: monospace;font-weight: bold;background-color: white;display: inline-block;line-height: 1.2em;}#sk-f63fadd3-c019-43a5-9d87-90a85cae1787 div.sk-label-container {position: relative;z-index: 2;text-align: center;}#sk-f63fadd3-c019-43a5-9d87-90a85cae1787 div.sk-container {/* jupyter's `normalize.less` sets `[hidden] { display: none; }` but bootstrap.min.css set `[hidden] { display: none !important; }` so we also need the `!important` here to be able to override the default hidden behavior on the sphinx rendered scikit-learn.org. See: https://github.com/scikit-learn/scikit-learn/issues/21755 */display: inline-block !important;position: relative;}#sk-f63fadd3-c019-43a5-9d87-90a85cae1787 div.sk-text-repr-fallback {display: none;}</style><div id=\"sk-f63fadd3-c019-43a5-9d87-90a85cae1787\" class=\"sk-top-container\"><div class=\"sk-text-repr-fallback\"><pre>Pipeline(steps=[(&#x27;columntransformer&#x27;,\n",
       "                 ColumnTransformer(transformers=[(&#x27;pipeline-1&#x27;,\n",
       "                                                  Pipeline(steps=[(&#x27;simpleimputer&#x27;,\n",
       "                                                                   SimpleImputer()),\n",
       "                                                                  (&#x27;standardscaler&#x27;,\n",
       "                                                                   StandardScaler())]),\n",
       "                                                  [&#x27;annual_inc&#x27;, &#x27;int_rate&#x27;]),\n",
       "                                                 (&#x27;pipeline-2&#x27;,\n",
       "                                                  Pipeline(steps=[(&#x27;onehotencoder&#x27;,\n",
       "                                                                   OneHotEncoder(drop=&#x27;first&#x27;))]),\n",
       "                                                  [&#x27;grade&#x27;])])),\n",
       "                (&#x27;logisticregression&#x27;,\n",
       "                 LogisticRegression(class_weight=&#x27;balanced&#x27;))])</pre><b>Please rerun this cell to show the HTML repr or trust the notebook.</b></div><div class=\"sk-container\" hidden><div class=\"sk-item sk-dashed-wrapped\"><div class=\"sk-label-container\"><div class=\"sk-label sk-toggleable\"><input class=\"sk-toggleable__control sk-hidden--visually\" id=\"d00d8b72-62d2-401f-8238-a312c9653f03\" type=\"checkbox\" ><label for=\"d00d8b72-62d2-401f-8238-a312c9653f03\" class=\"sk-toggleable__label sk-toggleable__label-arrow\">Pipeline</label><div class=\"sk-toggleable__content\"><pre>Pipeline(steps=[(&#x27;columntransformer&#x27;,\n",
       "                 ColumnTransformer(transformers=[(&#x27;pipeline-1&#x27;,\n",
       "                                                  Pipeline(steps=[(&#x27;simpleimputer&#x27;,\n",
       "                                                                   SimpleImputer()),\n",
       "                                                                  (&#x27;standardscaler&#x27;,\n",
       "                                                                   StandardScaler())]),\n",
       "                                                  [&#x27;annual_inc&#x27;, &#x27;int_rate&#x27;]),\n",
       "                                                 (&#x27;pipeline-2&#x27;,\n",
       "                                                  Pipeline(steps=[(&#x27;onehotencoder&#x27;,\n",
       "                                                                   OneHotEncoder(drop=&#x27;first&#x27;))]),\n",
       "                                                  [&#x27;grade&#x27;])])),\n",
       "                (&#x27;logisticregression&#x27;,\n",
       "                 LogisticRegression(class_weight=&#x27;balanced&#x27;))])</pre></div></div></div><div class=\"sk-serial\"><div class=\"sk-item sk-dashed-wrapped\"><div class=\"sk-label-container\"><div class=\"sk-label sk-toggleable\"><input class=\"sk-toggleable__control sk-hidden--visually\" id=\"d949ea95-3f50-4d50-97ae-ef132231b2e0\" type=\"checkbox\" ><label for=\"d949ea95-3f50-4d50-97ae-ef132231b2e0\" class=\"sk-toggleable__label sk-toggleable__label-arrow\">columntransformer: ColumnTransformer</label><div class=\"sk-toggleable__content\"><pre>ColumnTransformer(transformers=[(&#x27;pipeline-1&#x27;,\n",
       "                                 Pipeline(steps=[(&#x27;simpleimputer&#x27;,\n",
       "                                                  SimpleImputer()),\n",
       "                                                 (&#x27;standardscaler&#x27;,\n",
       "                                                  StandardScaler())]),\n",
       "                                 [&#x27;annual_inc&#x27;, &#x27;int_rate&#x27;]),\n",
       "                                (&#x27;pipeline-2&#x27;,\n",
       "                                 Pipeline(steps=[(&#x27;onehotencoder&#x27;,\n",
       "                                                  OneHotEncoder(drop=&#x27;first&#x27;))]),\n",
       "                                 [&#x27;grade&#x27;])])</pre></div></div></div><div class=\"sk-parallel\"><div class=\"sk-parallel-item\"><div class=\"sk-item\"><div class=\"sk-label-container\"><div class=\"sk-label sk-toggleable\"><input class=\"sk-toggleable__control sk-hidden--visually\" id=\"d89ebed5-2ad7-41d4-af2f-3b4e3e442677\" type=\"checkbox\" ><label for=\"d89ebed5-2ad7-41d4-af2f-3b4e3e442677\" class=\"sk-toggleable__label sk-toggleable__label-arrow\">pipeline-1</label><div class=\"sk-toggleable__content\"><pre>[&#x27;annual_inc&#x27;, &#x27;int_rate&#x27;]</pre></div></div></div><div class=\"sk-serial\"><div class=\"sk-item\"><div class=\"sk-serial\"><div class=\"sk-item\"><div class=\"sk-estimator sk-toggleable\"><input class=\"sk-toggleable__control sk-hidden--visually\" id=\"6c314d36-a6d7-4f57-8758-d0051ee7bc8d\" type=\"checkbox\" ><label for=\"6c314d36-a6d7-4f57-8758-d0051ee7bc8d\" class=\"sk-toggleable__label sk-toggleable__label-arrow\">SimpleImputer</label><div class=\"sk-toggleable__content\"><pre>SimpleImputer()</pre></div></div></div><div class=\"sk-item\"><div class=\"sk-estimator sk-toggleable\"><input class=\"sk-toggleable__control sk-hidden--visually\" id=\"8000e492-e384-4dd3-b73d-52ab98d1f3f3\" type=\"checkbox\" ><label for=\"8000e492-e384-4dd3-b73d-52ab98d1f3f3\" class=\"sk-toggleable__label sk-toggleable__label-arrow\">StandardScaler</label><div class=\"sk-toggleable__content\"><pre>StandardScaler()</pre></div></div></div></div></div></div></div></div><div class=\"sk-parallel-item\"><div class=\"sk-item\"><div class=\"sk-label-container\"><div class=\"sk-label sk-toggleable\"><input class=\"sk-toggleable__control sk-hidden--visually\" id=\"ec60be45-14ab-4cbe-b312-f4cfac4d8b84\" type=\"checkbox\" ><label for=\"ec60be45-14ab-4cbe-b312-f4cfac4d8b84\" class=\"sk-toggleable__label sk-toggleable__label-arrow\">pipeline-2</label><div class=\"sk-toggleable__content\"><pre>[&#x27;grade&#x27;]</pre></div></div></div><div class=\"sk-serial\"><div class=\"sk-item\"><div class=\"sk-serial\"><div class=\"sk-item\"><div class=\"sk-estimator sk-toggleable\"><input class=\"sk-toggleable__control sk-hidden--visually\" id=\"05b6803f-2d5f-4e89-8f96-5d086d0ca524\" type=\"checkbox\" ><label for=\"05b6803f-2d5f-4e89-8f96-5d086d0ca524\" class=\"sk-toggleable__label sk-toggleable__label-arrow\">OneHotEncoder</label><div class=\"sk-toggleable__content\"><pre>OneHotEncoder(drop=&#x27;first&#x27;)</pre></div></div></div></div></div></div></div></div></div></div><div class=\"sk-item\"><div class=\"sk-estimator sk-toggleable\"><input class=\"sk-toggleable__control sk-hidden--visually\" id=\"49a14438-1b69-4389-b258-fffb90f0bb9f\" type=\"checkbox\" ><label for=\"49a14438-1b69-4389-b258-fffb90f0bb9f\" class=\"sk-toggleable__label sk-toggleable__label-arrow\">LogisticRegression</label><div class=\"sk-toggleable__content\"><pre>LogisticRegression(class_weight=&#x27;balanced&#x27;)</pre></div></div></div></div></div></div></div>"
      ],
      "text/plain": [
       "Pipeline(steps=[('columntransformer',\n",
       "                 ColumnTransformer(transformers=[('pipeline-1',\n",
       "                                                  Pipeline(steps=[('simpleimputer',\n",
       "                                                                   SimpleImputer()),\n",
       "                                                                  ('standardscaler',\n",
       "                                                                   StandardScaler())]),\n",
       "                                                  ['annual_inc', 'int_rate']),\n",
       "                                                 ('pipeline-2',\n",
       "                                                  Pipeline(steps=[('onehotencoder',\n",
       "                                                                   OneHotEncoder(drop='first'))]),\n",
       "                                                  ['grade'])])),\n",
       "                ('logisticregression',\n",
       "                 LogisticRegression(class_weight='balanced'))])"
      ]
     },
     "execution_count": 12,
     "metadata": {},
     "output_type": "execute_result"
    }
   ],
   "source": [
    "clf_logit.get_params() # looking for the name of the parameter, as the pipeline cals it\n",
    "clf_logit.set_params(logisticregression__class_weight='balanced')"
   ]
  },
  {
   "cell_type": "markdown",
   "id": "8029e55f-40fd-4f34-924b-9aa83ca1b139",
   "metadata": {},
   "source": [
    "Now we can use it. How did we do?"
   ]
  },
  {
   "cell_type": "code",
   "execution_count": 13,
   "id": "5ae45934-a883-4087-ae28-2dde5efa884b",
   "metadata": {},
   "outputs": [
    {
     "name": "stdout",
     "output_type": "stream",
     "text": [
      "              precision    recall  f1-score   support\n",
      "\n",
      "       False       0.91      0.57      0.70     91024\n",
      "        True       0.23      0.69      0.34     16819\n",
      "\n",
      "    accuracy                           0.59    107843\n",
      "   macro avg       0.57      0.63      0.52    107843\n",
      "weighted avg       0.80      0.59      0.65    107843\n",
      "\n"
     ]
    }
   ],
   "source": [
    "clf_logit.fit(X_train, y_train) \n",
    "print(classification_report(y_train, \n",
    "                            clf_logit.predict(X_train)))"
   ]
  },
  {
   "cell_type": "markdown",
   "id": "797ee19b-82a4-4423-9385-d2188cac67cd",
   "metadata": {},
   "source": [
    "Hey! We managed to actually predict some defaults!"
   ]
  },
  {
   "cell_type": "code",
   "execution_count": 14,
   "id": "98c7008f-dc16-4d63-ad3c-e84b133d03b5",
   "metadata": {},
   "outputs": [
    {
     "data": {
      "text/plain": [
       "<sklearn.metrics._plot.confusion_matrix.ConfusionMatrixDisplay at 0x1474b85cca0>"
      ]
     },
     "execution_count": 14,
     "metadata": {},
     "output_type": "execute_result"
    },
    {
     "data": {
      "image/png": "[encoded data removed]",
      "text/plain": [
       "<Figure size 432x288 with 2 Axes>"
      ]
     },
     "metadata": {
      "needs_background": "light"
     },
     "output_type": "display_data"
    }
   ],
   "source": [
    "ConfusionMatrixDisplay.from_estimator(clf_logit, X_train, y_train)"
   ]
  },
  {
   "cell_type": "markdown",
   "id": "49c50a66-e934-4145-84cb-e8a36617a4c4",
   "metadata": {},
   "source": [
    "## Exercises\n",
    "\n",
    "Make (reasonable) assumptions as needed to compare the two models:\n",
    "1. How much money does this improved model save us relative to the prior model from reduced charge-offs?\n",
    "1. How much foregone profit does this \"improved\" model have relative to the prior model?\n",
    "1. How does this improved model do from the standpoint of a profit maximizing lender? Meaning: Would you rather use the first or the second model, and why? \n",
    "1. Write down a profit function for firm using the cells of the confusion matrix. (The four cells of the matrix are TNR, TPR, FNR, and FPR.)\n",
    "1. Based on your profit function, which metric(s) do you want to maximize/minimize in this model? There might not be a clean answer, if so: Discuss candidates and what they capture correctly about the profit function and what they miss."
   ]
  },
  {
   "cell_type": "code",
   "execution_count": null,
   "id": "ab88f9dd-f5bd-41e8-b0bc-870826d4e2aa",
   "metadata": {},
   "outputs": [],
   "source": [
    "# put answers here"
   ]
  },
  {
   "cell_type": "markdown",
   "id": "b5ce447a-7506-4565-a613-386e82247e2e",
   "metadata": {},
   "source": [
    "## Bonus demo: Undersampling"
   ]
  },
  {
   "cell_type": "code",
   "execution_count": null,
   "id": "12937d13-47e6-452d-b9b7-638c1a00eac8",
   "metadata": {},
   "outputs": [],
   "source": [
    "# !pip install -U imbalanced-learn\n",
    "\n",
    "from imblearn.pipeline import make_pipeline as make_pipeline_with_sampler\n",
    "from imblearn.under_sampling import RandomUnderSampler\n",
    "\n",
    "logit_undersamp = make_pipeline_with_sampler(\n",
    "    preproc_pipe,\n",
    "    RandomUnderSampler(random_state=42),\n",
    "    LogisticRegression(),\n",
    ")\n",
    "\n",
    "logit_undersamp.fit(X_train, y_train) \n",
    "\n",
    "y_pred = logit_undersamp.predict(X_train,)\n",
    "print(classification_report(y_train, y_pred))"
   ]
  }
 ],
 "metadata": {
  "kernelspec": {
   "display_name": "Python 3 (ipykernel)",
   "language": "python",
   "name": "python3"
  },
  "language_info": {
   "codemirror_mode": {
    "name": "ipython",
    "version": 3
   },
   "file_extension": ".py",
   "mimetype": "text/x-python",
   "name": "python",
   "nbconvert_exporter": "python",
   "pygments_lexer": "ipython3",
   "version": "3.8.12"
  }
 },
 "nbformat": 4,
 "nbformat_minor": 5
}
