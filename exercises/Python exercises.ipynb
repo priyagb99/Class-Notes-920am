{
 "cells": [
  {
   "cell_type": "markdown",
   "metadata": {},
   "source": [
    "# Startup\n",
    "\n",
    "1. Don't forget to fetch your class notes repo AND the textbook repo. \n",
    "2. Copy these files from the textbook repo into your class notes/exercises folder:\n",
    "    -  `ledatascifi-2022/handouts/Python exercises.ipynb`\n",
    "    - `ledatascifi-2022/content/01/06_python.ipynb`\n",
    "3. Suggested: Open this exercise file on one side of your Jupyterlab screen and the two files above on the other side of your screen. \n"
   ]
  },
  {
   "cell_type": "markdown",
   "metadata": {},
   "source": [
    "## As you solve the questions below:\n",
    "- use comments to take notes about code you're writing as you figure things out\n",
    "- take big picture notes in the module 1 notes file\n"
   ]
  },
  {
   "cell_type": "markdown",
   "metadata": {},
   "source": [
    "## Python essentials\n",
    "\n",
    "Loosely covers the [python essentials in 1.7.2](https://ledatascifi.github.io/ledatascifi-2022/content/01/06_python.html#python-essentials)"
   ]
  },
  {
   "cell_type": "code",
   "execution_count": 1,
   "metadata": {},
   "outputs": [],
   "source": [
    "# this is guided discussion AND practice,\n",
    "# follow along!\n",
    "\n",
    "# start running code from the textbook here\n",
    "# add as many new code cells as you want "
   ]
  },
  {
   "cell_type": "markdown",
   "metadata": {},
   "source": [
    "## Exercises (try, pair, share)\n",
    "\n",
    "1. Say hi to the person next to you\n",
    "1. [Try to guess each other's lie](https://github.com/orgs/LeDataSciFi/teams/classmates-2022/discussions/3)"
   ]
  },
  {
   "cell_type": "code",
   "execution_count": 2,
   "metadata": {
    "tags": []
   },
   "outputs": [],
   "source": [
    "L=[8, 5, 6, 3, 7]"
   ]
  },
  {
   "cell_type": "markdown",
   "metadata": {
    "slideshow": {
     "slide_type": "subslide"
    }
   },
   "source": [
    "Write code that does the following with  the vector `L`. Discuss with the person next to you as needed:\n",
    "\n",
    "1. Returns the length.\n",
    "1. Returns the largest element.\n",
    "1. Returns the smallest element.\n",
    "1. Returns the total of the vector.\n",
    "2. Returns the first element. See [this awesome answer](https://stackoverflow.com/questions/509211/understanding-slice-notation?rq=1) to learn about \"slicing\" lists in Python. If that link is dead: https://stackoverflow.com/questions/509211/understanding-slice-notation?rq=1 \n",
    "2. Returns the last element.\n",
    "2. Returns the first 2 elements.\n",
    "2. Returns the last 2 elements.\n",
    "2. Returns the odd numbered elements (i.e. [8,6,7].\n",
    "1. Clear your output and restart the kernel, then rerun your code. \n"
   ]
  },
  {
   "cell_type": "code",
   "execution_count": 3,
   "metadata": {
    "slideshow": {
     "slide_type": "subslide"
    },
    "tags": [
     "popout"
    ]
   },
   "outputs": [
    {
     "data": {
      "text/plain": [
       "[8, 6, 7]"
      ]
     },
     "execution_count": 3,
     "metadata": {},
     "output_type": "execute_result"
    }
   ],
   "source": [
    "len(L)\n",
    "max(L)\n",
    "min(L)\n",
    "sum(L)\n",
    "L[0] # to access list elements,use sq bracket: [element]\n",
    "L[-1] # can access from the end!\n",
    "L[:2] # start : end\n",
    "L[-2:] # start to end, but omit end means GO untilk finished\n",
    "#L[beg:end:stride length]\n",
    "L[::2]"
   ]
  },
  {
   "cell_type": "code",
   "execution_count": 4,
   "metadata": {},
   "outputs": [
    {
     "data": {
      "text/plain": [
       "'H'"
      ]
     },
     "execution_count": 4,
     "metadata": {},
     "output_type": "execute_result"
    }
   ],
   "source": [
    "s = 'HEY YOU'\n",
    "s[0]"
   ]
  },
  {
   "cell_type": "code",
   "execution_count": null,
   "metadata": {},
   "outputs": [],
   "source": []
  }
 ],
 "metadata": {
  "celltoolbar": "Tags",
  "kernelspec": {
   "display_name": "Python 3 (ipykernel)",
   "language": "python",
   "name": "python3"
  },
  "language_info": {
   "codemirror_mode": {
    "name": "ipython",
    "version": 3
   },
   "file_extension": ".py",
   "mimetype": "text/x-python",
   "name": "python",
   "nbconvert_exporter": "python",
   "pygments_lexer": "ipython3",
   "version": "3.8.12"
  }
 },
 "nbformat": 4,
 "nbformat_minor": 4
}
