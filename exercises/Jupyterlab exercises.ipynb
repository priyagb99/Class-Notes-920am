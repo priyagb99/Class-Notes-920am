{
 "cells": [
  {
   "cell_type": "markdown",
   "metadata": {},
   "source": [
    "## Exercises\n",
    "\n",
    "1. Open Jupyter Lab:\n",
    "    - Windows: Open Anaconda Prompt and type `jupyter lab` and hit enter\n",
    "    - Mac: Open a terminal window and type `jupyter lab` and hit enter\n",
    "2. Use the left sidebar's file browser to\n",
    "    1. Nav to my textbook folder to copy today's exercises\n",
    "    1. Nav to my Class Notes folder, create a folder called \"Exercises\"\n",
    "    2. Go into the Exercises folder you just made and paste the exercises ipynb file there\n",
    "    3. Open your \"Module 1 Notes\" file and the exercise file from inside your notes folder\n",
    "3. Arrange the notes and exercise file as two halves of the work area so you can see both at the same time.\n",
    "4. Writing python \n",
    "    - go down to the \"Jupyterlab Notes\" part of the file\n",
    "    - under it, there is \"put your notes here\". Replace that with `print(\"Hello world!\")` (don't forget both quote marks or parentheses)\n",
    "    - Do you notice the syntax coloring? \n",
    "    - hit the \"play\" button to run the cell \n",
    "    - Do you see the number to the left of the output? That helps you track the order in which each cell was run. \n",
    "    - Change that line so it says `print(\"Hello world!\") # this is a comment`\n",
    "    - Notice the coloring of what you just added\n",
    "    - The hashtags/pound signs are the \"comment signal\". They tell Python to ignore everything to the right of it on that line, so that you can write notes to anyone looking at the code.    \n",
    "    - this time, to run the code, hit <kbd> ctrl </kbd>+ <kbd> enter</kbd> on your keyboard\n",
    "    - notice how next to the output it used to say \"[1]\" but now says \"[2]\"\n",
    "5. Modal editing system    \n",
    "    1. Because jupyterlab has parts that are code and parts that are markdown text, it uses a \"modal\" editing system so that you can either (A) edit code and text _within_ the cells you're writing which is called **\"editing mode\"** or (B) modify the cells themselves (e.g. add a new cell, change cell from markdown to code, ...) using **command mode**\n",
    "        - Switch into edit mode by hitting Enter or double clicking in the cell.\n",
    "        - Switch into command mode by hitting ESC\n",
    "    1. With your cursor in the \"hello world\" cell, hit ESC. Notice how the coloring on the screen changes. Now hit ENTER to go back to edit mode.\n",
    "    1. add a new cell below it by _**clicking**_ the plus button on near the top of work area.\n",
    "    2. Add a second new cell below by _**keyboard shortcut**_. The shortcuts are in [chapter 1.6.3](https://ledatascifi.github.io/ledatascifi-2022/content/01/05_jupyterlab.html#shortcuts). So, click <kbd> ESC </kbd> to switch to command mode, then <kbd> B </kbd> to insert a cell **B** elow. \n",
    "4. Writing markdown ([more at chapter 1.5](https://ledatascifi.github.io/ledatascifi-2022/content/01/04_Markdown.html))\n",
    "    - Switch the code cell you just inserted cell to markdown (via the markdown/code drop down box) and write a silly sentence. The click CTRL + ENTER. See?\n",
    "    - Now delete the cell with that silly sentence: <code>ESC</code> to go to command mode and then <code>D</code>,<code>D</code> (hit the \"d\" button twice).\n",
    "7. Learning more\n",
    "    1. Read Chapters 1.5 and 1.6. Take notes in the notes file!\n",
    "    1. I'd copy the shortcuts into your notes file, (as markdown, under the \"Juypyterlab note\" header). Even better: practice them!\n"
   ]
  },
  {
   "cell_type": "markdown",
   "metadata": {},
   "source": [
    "Short summary\n",
    "1. You've added and deleted cells.\n",
    "1. You can change a code cell to markdown and back.\n",
    "1. You've used some shortcuts. "
   ]
  }
 ],
 "metadata": {
  "kernelspec": {
   "display_name": "Python 3 (ipykernel)",
   "language": "python",
   "name": "python3"
  },
  "language_info": {
   "codemirror_mode": {
    "name": "ipython",
    "version": 3
   },
   "file_extension": ".py",
   "mimetype": "text/x-python",
   "name": "python",
   "nbconvert_exporter": "python",
   "pygments_lexer": "ipython3",
   "version": "3.8.12"
  }
 },
 "nbformat": 4,
 "nbformat_minor": 4
}
