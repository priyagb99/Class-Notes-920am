{
 "cells": [
  {
   "cell_type": "markdown",
   "id": "698f3156-67e4-4082-aa1c-77a60dfe973c",
   "metadata": {},
   "source": [
    "# Plotting\n",
    "\n",
    "We will plot with 3 datasets this week. Let's load them. "
   ]
  },
  {
   "cell_type": "code",
   "execution_count": 1,
   "id": "f6794d14-ac43-4499-9d73-d8b2902ff1a3",
   "metadata": {},
   "outputs": [],
   "source": [
    "import datetime\n",
    "\n",
    "import matplotlib.pyplot as plt # for figure customizing \n",
    "import numpy as np\n",
    "import pandas as pd\n",
    "import pandas_datareader as pdr  # IF NECESSARY, from terminal: pip install pandas_datareader\n",
    "import seaborn as sns\n",
    "from numpy.random import default_rng\n",
    "\n",
    "# these three are used to open the CCM dataset:\n",
    "from io import BytesIO\n",
    "from zipfile import ZipFile\n",
    "from urllib.request import urlopen\n",
    "\n",
    "pd.set_option(\"display.max_rows\", 10)  # display option for pandas\n",
    "# more here: https://pandas.pydata.org/pandas-docs/stable/user_guide/options.html"
   ]
  },
  {
   "cell_type": "markdown",
   "id": "f6a5aeb6-713e-458b-a94b-494a3a153447",
   "metadata": {},
   "source": [
    "## Load macro_data"
   ]
  },
  {
   "cell_type": "code",
   "execution_count": 2,
   "id": "831bc97e-80a2-4a39-bc7f-17c666428872",
   "metadata": {},
   "outputs": [],
   "source": [
    "# LOAD DATA AND CONVERT TO ANNUAL\n",
    "\n",
    "start = 1990 # pandas datareader can infer these are years\n",
    "end = 2018\n",
    "macro_data = pdr.data.DataReader(['CAUR','MIUR','PAUR', # unemployment \n",
    "                                  'LXXRSA','DEXRSA','WDXRSA', # case shiller index in LA, Detroit, DC (no PA  available!)\n",
    "                                  'MEHOINUSCAA672N','MEHOINUSMIA672N','MEHOINUSPAA672N'], #  \n",
    "                                 'fred', start, end)\n",
    "macro_data = macro_data.resample('Y').first() # get's the first observation for each variable in a given year\n",
    "\n",
    "# CLEAN UP THE FORMATING SOMEWHAT\n",
    "\n",
    "macro_data.index = macro_data.index.year\n",
    "macro_data.columns=pd.MultiIndex.from_tuples([\n",
    "    ('Unemployment','CA'),('Unemployment','MI'),('Unemployment','PA'),\n",
    "    ('HouseIdx','CA'),('HouseIdx','MI'),('HouseIdx','PA'),\n",
    "    ('MedIncome','CA'),('MedIncome','MI'),('MedIncome','PA')\n",
    "    ])\n",
    "\n"
   ]
  },
  {
   "cell_type": "markdown",
   "id": "45ec0fe3-8cec-4d26-a7ba-177917a8c9df",
   "metadata": {},
   "source": [
    "Make two versions of that data: wide and tall"
   ]
  },
  {
   "cell_type": "code",
   "execution_count": 3,
   "id": "2156bca5-e0af-4142-b867-d9ed1c1cf080",
   "metadata": {},
   "outputs": [],
   "source": [
    "year_state_tall = macro_data.stack().reset_index().rename(columns={'level_1':'state'}).sort_values(['state','DATE'])    \n",
    "\n",
    "year_state_wide = macro_data\n",
    "# one level names\n",
    "year_state_wide.columns=[\n",
    "    'Unemployment_CA','Unemployment_MI','Unemployment_PA',\n",
    "    'HouseIdx_CA','HouseIdx_MI','HouseIdx_PA',\n",
    "    'MedIncome_CA','MedIncome_MI','MedIncome_PA'\n",
    "    ]"
   ]
  },
  {
   "cell_type": "code",
   "execution_count": 9,
   "id": "bbd57f3a-9b1b-4e66-a5a7-88b808a8836a",
   "metadata": {},
   "outputs": [
    {
     "data": {
      "text/html": [
       "<div>\n",
       "<style scoped>\n",
       "    .dataframe tbody tr th:only-of-type {\n",
       "        vertical-align: middle;\n",
       "    }\n",
       "\n",
       "    .dataframe tbody tr th {\n",
       "        vertical-align: top;\n",
       "    }\n",
       "\n",
       "    .dataframe thead th {\n",
       "        text-align: right;\n",
       "    }\n",
       "</style>\n",
       "<table border=\"1\" class=\"dataframe\">\n",
       "  <thead>\n",
       "    <tr style=\"text-align: right;\">\n",
       "      <th></th>\n",
       "      <th>Unemployment_CA</th>\n",
       "      <th>Unemployment_MI</th>\n",
       "      <th>Unemployment_PA</th>\n",
       "      <th>HouseIdx_CA</th>\n",
       "      <th>HouseIdx_MI</th>\n",
       "      <th>HouseIdx_PA</th>\n",
       "      <th>MedIncome_CA</th>\n",
       "      <th>MedIncome_MI</th>\n",
       "      <th>MedIncome_PA</th>\n",
       "    </tr>\n",
       "    <tr>\n",
       "      <th>DATE</th>\n",
       "      <th></th>\n",
       "      <th></th>\n",
       "      <th></th>\n",
       "      <th></th>\n",
       "      <th></th>\n",
       "      <th></th>\n",
       "      <th></th>\n",
       "      <th></th>\n",
       "      <th></th>\n",
       "    </tr>\n",
       "  </thead>\n",
       "  <tbody>\n",
       "    <tr>\n",
       "      <th>1990</th>\n",
       "      <td>5.2</td>\n",
       "      <td>7.7</td>\n",
       "      <td>5.2</td>\n",
       "      <td>100.471193</td>\n",
       "      <td>NaN</td>\n",
       "      <td>93.362855</td>\n",
       "      <td>64124.0</td>\n",
       "      <td>57665.0</td>\n",
       "      <td>55870.0</td>\n",
       "    </tr>\n",
       "    <tr>\n",
       "      <th>1991</th>\n",
       "      <td>7.1</td>\n",
       "      <td>8.8</td>\n",
       "      <td>6.5</td>\n",
       "      <td>95.569015</td>\n",
       "      <td>58.420806</td>\n",
       "      <td>89.706871</td>\n",
       "      <td>62568.0</td>\n",
       "      <td>59693.0</td>\n",
       "      <td>56440.0</td>\n",
       "    </tr>\n",
       "    <tr>\n",
       "      <th>1992</th>\n",
       "      <td>8.6</td>\n",
       "      <td>9.5</td>\n",
       "      <td>7.4</td>\n",
       "      <td>92.786926</td>\n",
       "      <td>59.748947</td>\n",
       "      <td>88.573807</td>\n",
       "      <td>63297.0</td>\n",
       "      <td>58517.0</td>\n",
       "      <td>54191.0</td>\n",
       "    </tr>\n",
       "    <tr>\n",
       "      <th>1993</th>\n",
       "      <td>9.8</td>\n",
       "      <td>7.6</td>\n",
       "      <td>7.2</td>\n",
       "      <td>85.246295</td>\n",
       "      <td>61.564205</td>\n",
       "      <td>89.065118</td>\n",
       "      <td>60272.0</td>\n",
       "      <td>57776.0</td>\n",
       "      <td>54827.0</td>\n",
       "    </tr>\n",
       "    <tr>\n",
       "      <th>1994</th>\n",
       "      <td>9.3</td>\n",
       "      <td>7.2</td>\n",
       "      <td>6.7</td>\n",
       "      <td>77.395052</td>\n",
       "      <td>64.526663</td>\n",
       "      <td>88.988467</td>\n",
       "      <td>61219.0</td>\n",
       "      <td>61138.0</td>\n",
       "      <td>55562.0</td>\n",
       "    </tr>\n",
       "    <tr>\n",
       "      <th>...</th>\n",
       "      <td>...</td>\n",
       "      <td>...</td>\n",
       "      <td>...</td>\n",
       "      <td>...</td>\n",
       "      <td>...</td>\n",
       "      <td>...</td>\n",
       "      <td>...</td>\n",
       "      <td>...</td>\n",
       "      <td>...</td>\n",
       "    </tr>\n",
       "    <tr>\n",
       "      <th>2014</th>\n",
       "      <td>8.2</td>\n",
       "      <td>8.1</td>\n",
       "      <td>6.5</td>\n",
       "      <td>216.522259</td>\n",
       "      <td>95.259217</td>\n",
       "      <td>206.947728</td>\n",
       "      <td>66201.0</td>\n",
       "      <td>56917.0</td>\n",
       "      <td>60385.0</td>\n",
       "    </tr>\n",
       "    <tr>\n",
       "      <th>2015</th>\n",
       "      <td>6.8</td>\n",
       "      <td>6.0</td>\n",
       "      <td>5.5</td>\n",
       "      <td>228.186188</td>\n",
       "      <td>98.231964</td>\n",
       "      <td>208.677717</td>\n",
       "      <td>69527.0</td>\n",
       "      <td>59221.0</td>\n",
       "      <td>65980.0</td>\n",
       "    </tr>\n",
       "    <tr>\n",
       "      <th>2016</th>\n",
       "      <td>5.7</td>\n",
       "      <td>4.9</td>\n",
       "      <td>5.3</td>\n",
       "      <td>243.379080</td>\n",
       "      <td>104.886076</td>\n",
       "      <td>212.055794</td>\n",
       "      <td>71879.0</td>\n",
       "      <td>61582.0</td>\n",
       "      <td>65776.0</td>\n",
       "    </tr>\n",
       "    <tr>\n",
       "      <th>2017</th>\n",
       "      <td>5.3</td>\n",
       "      <td>4.9</td>\n",
       "      <td>5.2</td>\n",
       "      <td>256.076952</td>\n",
       "      <td>110.966185</td>\n",
       "      <td>218.146440</td>\n",
       "      <td>73957.0</td>\n",
       "      <td>59561.0</td>\n",
       "      <td>64714.0</td>\n",
       "    </tr>\n",
       "    <tr>\n",
       "      <th>2018</th>\n",
       "      <td>4.4</td>\n",
       "      <td>4.5</td>\n",
       "      <td>4.8</td>\n",
       "      <td>274.913004</td>\n",
       "      <td>119.242041</td>\n",
       "      <td>222.989104</td>\n",
       "      <td>72662.0</td>\n",
       "      <td>62312.0</td>\n",
       "      <td>66513.0</td>\n",
       "    </tr>\n",
       "  </tbody>\n",
       "</table>\n",
       "<p>29 rows × 9 columns</p>\n",
       "</div>"
      ],
      "text/plain": [
       "      Unemployment_CA  Unemployment_MI  Unemployment_PA  HouseIdx_CA  \\\n",
       "DATE                                                                   \n",
       "1990              5.2              7.7              5.2   100.471193   \n",
       "1991              7.1              8.8              6.5    95.569015   \n",
       "1992              8.6              9.5              7.4    92.786926   \n",
       "1993              9.8              7.6              7.2    85.246295   \n",
       "1994              9.3              7.2              6.7    77.395052   \n",
       "...               ...              ...              ...          ...   \n",
       "2014              8.2              8.1              6.5   216.522259   \n",
       "2015              6.8              6.0              5.5   228.186188   \n",
       "2016              5.7              4.9              5.3   243.379080   \n",
       "2017              5.3              4.9              5.2   256.076952   \n",
       "2018              4.4              4.5              4.8   274.913004   \n",
       "\n",
       "      HouseIdx_MI  HouseIdx_PA  MedIncome_CA  MedIncome_MI  MedIncome_PA  \n",
       "DATE                                                                      \n",
       "1990          NaN    93.362855       64124.0       57665.0       55870.0  \n",
       "1991    58.420806    89.706871       62568.0       59693.0       56440.0  \n",
       "1992    59.748947    88.573807       63297.0       58517.0       54191.0  \n",
       "1993    61.564205    89.065118       60272.0       57776.0       54827.0  \n",
       "1994    64.526663    88.988467       61219.0       61138.0       55562.0  \n",
       "...           ...          ...           ...           ...           ...  \n",
       "2014    95.259217   206.947728       66201.0       56917.0       60385.0  \n",
       "2015    98.231964   208.677717       69527.0       59221.0       65980.0  \n",
       "2016   104.886076   212.055794       71879.0       61582.0       65776.0  \n",
       "2017   110.966185   218.146440       73957.0       59561.0       64714.0  \n",
       "2018   119.242041   222.989104       72662.0       62312.0       66513.0  \n",
       "\n",
       "[29 rows x 9 columns]"
      ]
     },
     "execution_count": 9,
     "metadata": {},
     "output_type": "execute_result"
    }
   ],
   "source": [
    "year_state_wide"
   ]
  },
  {
   "cell_type": "markdown",
   "id": "58480bab-54c3-4c78-9f27-320b31177a73",
   "metadata": {},
   "source": [
    "## And load CCM data\n",
    "\n",
    "First, load the data"
   ]
  },
  {
   "cell_type": "code",
   "execution_count": 6,
   "id": "3c4cf59b-7f2a-42c6-8bad-a0e8d095b6d0",
   "metadata": {},
   "outputs": [],
   "source": [
    "url = 'https://github.com/LeDataSciFi/ledatascifi-2022/blob/main/data/CCM_cleaned_for_class.zip?raw=true'\n",
    "\n",
    "#firms = pd.read_stata(url)   \n",
    "# <-- that code would work, but GH said it was too big and\n",
    "# forced me to zip it, so here is the work around to download it:\n",
    "\n",
    "with urlopen(url) as request:\n",
    "    data = BytesIO(request.read())\n",
    "\n",
    "with ZipFile(data) as archive:\n",
    "    with archive.open(archive.namelist()[0]) as stata:\n",
    "        ccm = pd.read_stata(stata)"
   ]
  },
  {
   "cell_type": "markdown",
   "id": "88a0321d-f678-4d04-8dbc-68c037c78f4a",
   "metadata": {
    "tags": []
   },
   "source": [
    "## Sidebar: Here's a fun EDA hack:\n",
    "\n",
    "https://github.com/pandas-profiling/pandas-profiling#examples\n",
    "\n",
    "Notes\n",
    "- Slow with huge datasets\n",
    "- Doesn't wrk with multiindex column names (must be \"one level\")"
   ]
  },
  {
   "cell_type": "code",
   "execution_count": null,
   "id": "ec1365a8-38e2-4ab6-bb7d-7e1b8f0ed455",
   "metadata": {},
   "outputs": [],
   "source": [
    "# install new package (run this one time only)\n",
    "# !pip install pandas-profiling[notebook]"
   ]
  },
  {
   "cell_type": "code",
   "execution_count": 8,
   "id": "49faef62-8691-4fba-9420-b62e894c8e03",
   "metadata": {},
   "outputs": [],
   "source": [
    "from pandas_profiling import ProfileReport\n",
    "\n",
    "# create the report:\n",
    "# profile = ProfileReport(year_state_wide, title=\"Pandas Profiling Report\")\n",
    "# profile\n"
   ]
  },
  {
   "cell_type": "markdown",
   "id": "c0c250ee-efbb-4ca0-9bb3-d2bb96bc3cc0",
   "metadata": {},
   "source": [
    "From the `year_state` data (wide or tall):\n",
    "\n",
    "- Q0. How has median income has evolved over time for PA?\n",
    "    - 920am: Wasti and Lana\n",
    "    - 1045am: Jake and Cole"
   ]
  },
  {
   "cell_type": "code",
   "execution_count": 12,
   "id": "53248d52-0b2e-4085-ae23-42d8a6329d48",
   "metadata": {},
   "outputs": [],
   "source": [
    "year_state_wide['pa_inc_pct'] = year_state_wide[ 'MedIncome_PA' ].pct_change()*100"
   ]
  },
  {
   "cell_type": "code",
   "execution_count": 32,
   "id": "19ea82fd-6134-4004-b3da-60594d61cb34",
   "metadata": {},
   "outputs": [],
   "source": [
    "# %matplotlib inline # run one time, at beginning of notebook\n",
    "year_state_wide['pa_inc_pct'].plot(kind='line')"
   ]
  },
  {
   "cell_type": "code",
   "execution_count": 40,
   "id": "87213aba-f8c2-4425-b6c7-790f730ad698",
   "metadata": {},
   "outputs": [
    {
     "data": {
      "text/plain": [
       "<AxesSubplot:xlabel='DATE', ylabel='Unemployment'>"
      ]
     },
     "execution_count": 40,
     "metadata": {},
     "output_type": "execute_result"
    },
    {
     "data": {
      "image/png": "[encoded data removed]",
      "text/plain": [
       "<Figure size 432x288 with 1 Axes>"
      ]
     },
     "metadata": {
      "needs_background": "light"
     },
     "output_type": "display_data"
    }
   ],
   "source": [
    "# how to do this in seaborn?\n",
    "sns.lineplot(data=year_state_tall,\n",
    "             x='DATE',\n",
    "             y='Unemployment',\n",
    "             hue='state')\n"
   ]
  },
  {
   "cell_type": "markdown",
   "id": "8fa75443-127c-45b4-9749-67b91a06806d",
   "metadata": {},
   "source": [
    "- Q1. How has unemployment changes has evolved over time for PA?   \n",
    "- Q2. How has unemployment changes  has evolved over time for all states (view as one var)?  \n",
    "- Q3. How has unemployment changes  has evolved over time for all states (separately)  \n",
    "- Q4. How does unemployment changes vary with median income growth?\n",
    "\n",
    "From the `ccm` data:\n",
    "\n",
    "- Q5. Plot the distribution of R&D (`xrd_a`). Bonuses:\n",
    "    - deal with outliers\n",
    "    - add a title\n",
    "    - change the x and y axis titles\n",
    "- Q6: Compare R&D and CAPX. Bonuses:\n",
    "    - don't plot outliers\n",
    "    - avoid oversaturated plot"
   ]
  }
 ],
 "metadata": {
  "kernelspec": {
   "display_name": "Python 3 (ipykernel)",
   "language": "python",
   "name": "python3"
  },
  "language_info": {
   "codemirror_mode": {
    "name": "ipython",
    "version": 3
   },
   "file_extension": ".py",
   "mimetype": "text/x-python",
   "name": "python",
   "nbconvert_exporter": "python",
   "pygments_lexer": "ipython3",
   "version": "3.8.12"
  }
 },
 "nbformat": 4,
 "nbformat_minor": 5
}
